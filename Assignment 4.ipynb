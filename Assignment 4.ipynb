{
 "cells": [
  {
   "cell_type": "code",
   "execution_count": 5,
   "id": "b368225e",
   "metadata": {},
   "outputs": [
    {
     "name": "stdout",
     "output_type": "stream",
     "text": [
      "1\n",
      "2\n",
      "3\n",
      "5\n",
      "77\n"
     ]
    }
   ],
   "source": [
    "#1) Write a Python program to loop through all the elements in a list\n",
    "x = [1,2,3,5,77]\n",
    "for y in x:\n",
    "    print(y)\n"
   ]
  },
  {
   "cell_type": "code",
   "execution_count": 9,
   "id": "3bc7bc1a",
   "metadata": {},
   "outputs": [
    {
     "name": "stdout",
     "output_type": "stream",
     "text": [
      "Enter length of the list: 5\n",
      "Enter list element :2\n",
      "Enter list element :44\n",
      "Enter list element :1\n",
      "Enter list element :6\n",
      "Enter list element :9\n",
      "[2, 44, 1, 6, 9]\n"
     ]
    }
   ],
   "source": [
    "#2. Write a Python program where you will ask the users to insert elements in a list\n",
    "l=[]\n",
    "y = int(input(\"Enter length of the list: \"))\n",
    "for y in range(0,y):\n",
    "    x = int(input(\"Enter list element :\"))\n",
    "    l.append(x)\n",
    "print(l)"
   ]
  },
  {
   "cell_type": "code",
   "execution_count": 10,
   "id": "28627782",
   "metadata": {},
   "outputs": [
    {
     "name": "stdout",
     "output_type": "stream",
     "text": [
      "Even indexes list:  [2, 4, 6]\n"
     ]
    }
   ],
   "source": [
    "#3. Write a Python program to remove all the odd index value from a list and only even index elements should remain\n",
    "l = [2,3,4,5,6]\n",
    "print(\"Even indexes list: \",l[::2])"
   ]
  },
  {
   "cell_type": "code",
   "execution_count": 12,
   "id": "f7d82e4e",
   "metadata": {},
   "outputs": [
    {
     "name": "stdout",
     "output_type": "stream",
     "text": [
      "Sum is:  15 \n",
      "Product is:  120\n"
     ]
    }
   ],
   "source": [
    "#4) Write a Python program to sum and multiply all the items in a list\n",
    "l=[1,2,3,4,5]\n",
    "s=0\n",
    "p=1\n",
    "for y in l:\n",
    "    s+=y\n",
    "    p*=y\n",
    "print(\"Sum is: \",s,\"\\nProduct is: \",p)"
   ]
  },
  {
   "cell_type": "code",
   "execution_count": 13,
   "id": "bf3c782e",
   "metadata": {},
   "outputs": [
    {
     "name": "stdout",
     "output_type": "stream",
     "text": [
      "Maximum number of list is :  222\n",
      "Minimum number of list is :  -4\n"
     ]
    }
   ],
   "source": [
    "#5) Write a Python program to get the maximum and minimum numbers from a list\n",
    "l=[2,66,-4,222,4,0]\n",
    "print(\"Maximum number of list is : \",max(l))\n",
    "print(\"Minimum number of list is : \",min(l))\n"
   ]
  },
  {
   "cell_type": "code",
   "execution_count": 14,
   "id": "ab522acb",
   "metadata": {},
   "outputs": [
    {
     "name": "stdout",
     "output_type": "stream",
     "text": [
      "list is:  ['Green', 'White', 'Black']\n"
     ]
    }
   ],
   "source": [
    "#6. Write a Python program to print a specified list after removing the 0th, 4th and 5th elements.\n",
    "l=[]\n",
    "x=['Red', 'Green', 'White', 'Black', 'Pink', 'Yellow']\n",
    "for y in range(0,5):\n",
    "    if y!=0 and y!=4 and y!=5:\n",
    "        l.append(x[y])\n",
    "    else:\n",
    "        continue\n",
    "print(\"list is: \",l)"
   ]
  },
  {
   "cell_type": "code",
   "execution_count": 2,
   "id": "902fdf6d",
   "metadata": {},
   "outputs": [
    {
     "name": "stdout",
     "output_type": "stream",
     "text": [
      "Enter lengthof the string: 4\n",
      "Enter a character: 2\n",
      "Enter a character: e\n",
      "Enter a character: @\n",
      "Enter a character: tr\n",
      "List:  ['2', 'e', '@', 'tr']\n",
      "String:   2e@tr\n"
     ]
    }
   ],
   "source": [
    "#7. Write a Python program to convert a list of characters into a string\n",
    "s=\" \"\n",
    "l1=[]\n",
    "l= int(input(\"Enter lengthof the string: \"))\n",
    "for y in range(0,l):\n",
    "    x = input(\"Enter a character: \")\n",
    "    l1.append(x)\n",
    "    s+=str(x)\n",
    "print(\"List: \",l1)\n",
    "print(\"String: \",s)\n"
   ]
  },
  {
   "cell_type": "code",
   "execution_count": 5,
   "id": "813d718f",
   "metadata": {},
   "outputs": [
    {
     "name": "stdout",
     "output_type": "stream",
     "text": [
      "List:  [2, 3, 4, 70]\n",
      "Average:  19.75\n"
     ]
    }
   ],
   "source": [
    "#8. Write a Python program to compute average of given list.\n",
    "l= [2,3,4,70]\n",
    "s=0\n",
    "for y in l:\n",
    "    s+=y\n",
    "print(\"List: \",l)\n",
    "print(\"Average: \",s/len(l))\n",
    "    "
   ]
  },
  {
   "cell_type": "code",
   "execution_count": 10,
   "id": "6372ec32",
   "metadata": {},
   "outputs": [
    {
     "name": "stdout",
     "output_type": "stream",
     "text": [
      "Number of integers is :  4\n"
     ]
    }
   ],
   "source": [
    "#9. Write a Python program to count integer in a given mixed list.\n",
    "l = [2,\"@\",'the',88,5,0]\n",
    "c=0\n",
    "for x in l:\n",
    "    if type(x)==int or type(x)==float:\n",
    "        c+=1\n",
    "    else:\n",
    "        continue\n",
    "print(\"Number of integers is : \",c)\n",
    "        "
   ]
  },
  {
   "cell_type": "code",
   "execution_count": 15,
   "id": "3d690ae0",
   "metadata": {},
   "outputs": [
    {
     "name": "stdout",
     "output_type": "stream",
     "text": [
      "list:  [2, 3, 'a', 7]\n",
      "Reversed list:  [7, 'a', 3, 2]\n"
     ]
    }
   ],
   "source": [
    "#10 write  apython program to reverse the list\n",
    "l = [2,3,'a',7]\n",
    "r = l[::-1]\n",
    "print(\"list: \",l)\n",
    "print(\"Reversed list: \", r)\n",
    "    "
   ]
  },
  {
   "cell_type": "code",
   "execution_count": 16,
   "id": "856c75cf",
   "metadata": {},
   "outputs": [
    {
     "name": "stdout",
     "output_type": "stream",
     "text": [
      "('H', 'e', 'l', 'l', 'o', '@', '1', '2', '3')\n"
     ]
    }
   ],
   "source": [
    "#11. Write a Python program convert a given string to a tuple\n",
    "\n",
    "s='Hello@123'\n",
    "t=tuple(s)\n",
    "print(t)"
   ]
  },
  {
   "cell_type": "code",
   "execution_count": null,
   "id": "561765c2",
   "metadata": {},
   "outputs": [],
   "source": []
  }
 ],
 "metadata": {
  "kernelspec": {
   "display_name": "Python 3 (ipykernel)",
   "language": "python",
   "name": "python3"
  },
  "language_info": {
   "codemirror_mode": {
    "name": "ipython",
    "version": 3
   },
   "file_extension": ".py",
   "mimetype": "text/x-python",
   "name": "python",
   "nbconvert_exporter": "python",
   "pygments_lexer": "ipython3",
   "version": "3.10.9"
  }
 },
 "nbformat": 4,
 "nbformat_minor": 5
}
