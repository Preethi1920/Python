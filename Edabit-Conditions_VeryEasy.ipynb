{
 "cells": [
  {
   "cell_type": "code",
   "execution_count": 26,
   "id": "df521223",
   "metadata": {},
   "outputs": [],
   "source": [
    "#1 Create a function that takes a boolean variable flag and returns it as a string.\n",
    "#Examples\n",
    "#bool_to_string(True) ➞ \"True\"\n",
    "#bool_to_string(False) ➞ \"False\"\n",
    "def bts(x):\n",
    "    y = str(x)\n",
    "    return y"
   ]
  },
  {
   "cell_type": "code",
   "execution_count": 27,
   "id": "940b841f",
   "metadata": {},
   "outputs": [
    {
     "data": {
      "text/plain": [
       "'True'"
      ]
     },
     "execution_count": 27,
     "metadata": {},
     "output_type": "execute_result"
    }
   ],
   "source": [
    "bts(True)"
   ]
  },
  {
   "cell_type": "code",
   "execution_count": 29,
   "id": "b1869eb1",
   "metadata": {},
   "outputs": [],
   "source": [
    "#2 Create a function that returns True when num1 is equal to num2; otherwise return False.\n",
    "def issamenum(x,y):\n",
    "    if(x==y):\n",
    "        return True\n",
    "    else:\n",
    "        return False\n",
    "    "
   ]
  },
  {
   "cell_type": "code",
   "execution_count": 35,
   "id": "6dcb345f",
   "metadata": {},
   "outputs": [
    {
     "data": {
      "text/plain": [
       "False"
      ]
     },
     "execution_count": 35,
     "metadata": {},
     "output_type": "execute_result"
    }
   ],
   "source": [
    "issamenum(5,2)"
   ]
  },
  {
   "cell_type": "code",
   "execution_count": 37,
   "id": "3e77cc5c",
   "metadata": {},
   "outputs": [],
   "source": [
    "#3 Create a function that takes a number as its only argument and returns True if it's less than or equal to zero, otherwise,\n",
    "#False\n",
    "def lessorequaltozero(x):\n",
    "    if x<=0:\n",
    "        return True\n",
    "    else:\n",
    "        return False"
   ]
  },
  {
   "cell_type": "code",
   "execution_count": 40,
   "id": "ba24ecdb",
   "metadata": {},
   "outputs": [
    {
     "data": {
      "text/plain": [
       "False"
      ]
     },
     "execution_count": 40,
     "metadata": {},
     "output_type": "execute_result"
    }
   ],
   "source": [
    "lessorequaltozero(0.8)"
   ]
  },
  {
   "cell_type": "code",
   "execution_count": 54,
   "id": "09401c9f",
   "metadata": {},
   "outputs": [],
   "source": [
    "#4 Emmy has written a function that returns a greeting to users. However, she's in love with Mubashir, \n",
    "#and would like to greet him slightly differently.She added a special case in her function, but she made a mistake.\n",
    "def greet(x):\n",
    "    \n",
    "    if x==\"Mubashir\":\n",
    "        y = print(\"Hello, my love!\")\n",
    "        return y\n",
    "    else:\n",
    "        y = print(\"Hello,\",x,\"!\")\n",
    "        return y\n",
    "    "
   ]
  },
  {
   "cell_type": "code",
   "execution_count": 56,
   "id": "d39e6276",
   "metadata": {},
   "outputs": [
    {
     "name": "stdout",
     "output_type": "stream",
     "text": [
      "Hello, my love!\n"
     ]
    }
   ],
   "source": [
    "greet('Mubashir')"
   ]
  },
  {
   "cell_type": "code",
   "execution_count": 57,
   "id": "5570a9e3",
   "metadata": {},
   "outputs": [],
   "source": [
    "#5Create a function that takes two arguments. Both arguments are integers, a and b. Return True if one of them is 10 \n",
    "#or if their sum is 10.\n",
    "def makes10(x,y):\n",
    "    if x|y==10 or x+y==10:\n",
    "        return True\n",
    "    else:\n",
    "        return False"
   ]
  },
  {
   "cell_type": "code",
   "execution_count": 61,
   "id": "4b6b65d7",
   "metadata": {},
   "outputs": [
    {
     "data": {
      "text/plain": [
       "False"
      ]
     },
     "execution_count": 61,
     "metadata": {},
     "output_type": "execute_result"
    }
   ],
   "source": [
    "makes10(1,8)"
   ]
  },
  {
   "cell_type": "code",
   "execution_count": 65,
   "id": "23590f44",
   "metadata": {},
   "outputs": [],
   "source": [
    "#6 Create a function that takes three arguments prob, prize, pay and returns True if prob * prize > pay;\n",
    "# otherwise return False.\n",
    "def profit_gamble(prob,prize,pay):\n",
    "    if prob*prize>pay:\n",
    "        return True\n",
    "    else:\n",
    "        return False"
   ]
  },
  {
   "cell_type": "code",
   "execution_count": 67,
   "id": "e0fc4ca9",
   "metadata": {},
   "outputs": [
    {
     "data": {
      "text/plain": [
       "False"
      ]
     },
     "execution_count": 67,
     "metadata": {},
     "output_type": "execute_result"
    }
   ],
   "source": [
    "profit_gamble(3,2,7)"
   ]
  },
  {
   "cell_type": "code",
   "execution_count": 68,
   "id": "6fecde3d",
   "metadata": {},
   "outputs": [],
   "source": [
    "#7 Create a function that takes an integer and returns True if it's divisible by 100, otherwise return False.\n",
    "def divby100(x):\n",
    "    if x%100==0:\n",
    "        return True\n",
    "    else:\n",
    "        return False"
   ]
  },
  {
   "cell_type": "code",
   "execution_count": 70,
   "id": "b4c82fbf",
   "metadata": {},
   "outputs": [
    {
     "data": {
      "text/plain": [
       "False"
      ]
     },
     "execution_count": 70,
     "metadata": {},
     "output_type": "execute_result"
    }
   ],
   "source": [
    "divby100(20)"
   ]
  },
  {
   "cell_type": "code",
   "execution_count": 71,
   "id": "07818882",
   "metadata": {},
   "outputs": [],
   "source": [
    "#8 Create a function that takes two strings as arguments and return either True or False depending on whether the total \n",
    "# number of characters in the first string is equal to the total number of characters in the second string.\n",
    "#Examples\n",
    "#comp(\"AB\", \"CD\") ➞ True\n",
    "def comp(x,y):\n",
    "    if len(x)==len(y):\n",
    "        return True\n",
    "    else:\n",
    "        return False"
   ]
  },
  {
   "cell_type": "code",
   "execution_count": 73,
   "id": "45fa59b5",
   "metadata": {},
   "outputs": [
    {
     "data": {
      "text/plain": [
       "True"
      ]
     },
     "execution_count": 73,
     "metadata": {},
     "output_type": "execute_result"
    }
   ],
   "source": [
    "comp('hi','di')"
   ]
  },
  {
   "cell_type": "code",
   "execution_count": 74,
   "id": "9ac84dcc",
   "metadata": {},
   "outputs": [],
   "source": [
    "#9 Given a string, return True if its length is even or False if the length is odd.\n",
    "def leneven(x):\n",
    "    if len(x)%2==0:\n",
    "        return True\n",
    "    else:\n",
    "        return False"
   ]
  },
  {
   "cell_type": "code",
   "execution_count": 79,
   "id": "7efb650f",
   "metadata": {},
   "outputs": [
    {
     "data": {
      "text/plain": [
       "True"
      ]
     },
     "execution_count": 79,
     "metadata": {},
     "output_type": "execute_result"
    }
   ],
   "source": [
    "leneven((4,2,1,99))"
   ]
  },
  {
   "cell_type": "code",
   "execution_count": 91,
   "id": "984071bd",
   "metadata": {},
   "outputs": [],
   "source": [
    "#10 Create a function that takes a string; we'll say that the front is the first three characters of the string.\n",
    "# If the string length is less than three characters, the front is whatever is there. Return a new string, which is \n",
    "# three copies of the front.\n",
    "#Examples\n",
    "#front3(\"Python\") ➞ \"PytPytPyt\"\n",
    "def front3(x):\n",
    "    if len(x)>=3:\n",
    "        front = x[0:3]\n",
    "        return front*3\n",
    "    else:\n",
    "        front = x[:]\n",
    "        return front*3\n",
    "   "
   ]
  },
  {
   "cell_type": "code",
   "execution_count": 92,
   "id": "8be31c46",
   "metadata": {},
   "outputs": [
    {
     "data": {
      "text/plain": [
       "'HeHeHe'"
      ]
     },
     "execution_count": 92,
     "metadata": {},
     "output_type": "execute_result"
    }
   ],
   "source": [
    "front3('He')"
   ]
  },
  {
   "cell_type": "code",
   "execution_count": 98,
   "id": "cad61859",
   "metadata": {},
   "outputs": [],
   "source": [
    "#11 Create a function that takes a number as an argument and returns \"even\" for even numbers and \"odd\" for odd numbers.\n",
    "def evenorodd(x):\n",
    "    if x%2==0:\n",
    "         return \"even\"\n",
    "    else:\n",
    "        return \"odd\""
   ]
  },
  {
   "cell_type": "code",
   "execution_count": 99,
   "id": "38c5b0a2",
   "metadata": {},
   "outputs": [
    {
     "data": {
      "text/plain": [
       "'odd'"
      ]
     },
     "execution_count": 99,
     "metadata": {},
     "output_type": "execute_result"
    }
   ],
   "source": [
    "evenorodd(13)"
   ]
  },
  {
   "cell_type": "code",
   "execution_count": 399,
   "id": "d2e04a2b",
   "metadata": {},
   "outputs": [],
   "source": [
    "#12 Create a function that takes in a word and determines whether or not it is plural. A plural word is one that ends in \"s\".\n",
    "def is_plural(x):\n",
    "    return x[-1]=='s'"
   ]
  },
  {
   "cell_type": "code",
   "execution_count": 400,
   "id": "b9c5762d",
   "metadata": {},
   "outputs": [
    {
     "data": {
      "text/plain": [
       "True"
      ]
     },
     "execution_count": 400,
     "metadata": {},
     "output_type": "execute_result"
    }
   ],
   "source": [
    "is_plural(\"changes\")"
   ]
  },
  {
   "cell_type": "code",
   "execution_count": 401,
   "id": "7d1e35e2",
   "metadata": {},
   "outputs": [
    {
     "data": {
      "text/plain": [
       "False"
      ]
     },
     "execution_count": 401,
     "metadata": {},
     "output_type": "execute_result"
    }
   ],
   "source": [
    "is_plural(\"change\")"
   ]
  },
  {
   "cell_type": "code",
   "execution_count": 101,
   "id": "a1d9e5b9",
   "metadata": {},
   "outputs": [],
   "source": [
    "#13 Create a function that takes a string (a random name). If the last character of the name is an \"n\", return True,or False.\n",
    "def is_n(x):\n",
    "    return x[-1]=='n'"
   ]
  },
  {
   "cell_type": "code",
   "execution_count": 102,
   "id": "588fd2c4",
   "metadata": {},
   "outputs": [
    {
     "data": {
      "text/plain": [
       "True"
      ]
     },
     "execution_count": 102,
     "metadata": {},
     "output_type": "execute_result"
    }
   ],
   "source": [
    "is_n('helen')"
   ]
  },
  {
   "cell_type": "code",
   "execution_count": 106,
   "id": "bdc8cf8f",
   "metadata": {},
   "outputs": [],
   "source": [
    "#14 The packaging system is running wild! The candy is lying loose all over in the warehouse, the cereal is missing,\n",
    "#and bread is stuffed in a bottle. What is going on here? The candy should be in plastic and the bread should be in a bag.\n",
    "\n",
    "def get_container(x):\n",
    "    d = {\"milk\":\"bottle\",\n",
    "           'eggs':'carton',\n",
    "           'beer':'bottle',\n",
    "           'hello':'world'}\n",
    "    return d[x]"
   ]
  },
  {
   "cell_type": "code",
   "execution_count": 107,
   "id": "9d24c46b",
   "metadata": {},
   "outputs": [
    {
     "data": {
      "text/plain": [
       "'bottle'"
      ]
     },
     "execution_count": 107,
     "metadata": {},
     "output_type": "execute_result"
    }
   ],
   "source": [
    "get_container('milk')"
   ]
  },
  {
   "cell_type": "code",
   "execution_count": 122,
   "id": "282e0ba1",
   "metadata": {},
   "outputs": [],
   "source": [
    "#15 Create a function that returns the opposite of the given boolean, as a number.\n",
    "def flip(x):\n",
    "    if x==False:\n",
    "        return 1\n",
    "    else:\n",
    "        return 0"
   ]
  },
  {
   "cell_type": "code",
   "execution_count": 123,
   "id": "cebd07ec",
   "metadata": {},
   "outputs": [
    {
     "data": {
      "text/plain": [
       "0"
      ]
     },
     "execution_count": 123,
     "metadata": {},
     "output_type": "execute_result"
    }
   ],
   "source": [
    "flip(9)"
   ]
  },
  {
   "cell_type": "code",
   "execution_count": 133,
   "id": "b5cd2219",
   "metadata": {},
   "outputs": [],
   "source": [
    "#16 Write a function that accepts base (decimal), height (decimal) and shape (\"triangle\", \"parallelogram\") as input and\n",
    "#calculates the area of that shape.\n",
    "def area_shape(b, h, shape):\n",
    "    if shape == \"triangle\":\n",
    "        area = (0.5*b*h)//1\n",
    "        return area\n",
    "    else:\n",
    "        area = (b*h)//1\n",
    "        return area"
   ]
  },
  {
   "cell_type": "code",
   "execution_count": 135,
   "id": "58178027",
   "metadata": {},
   "outputs": [
    {
     "data": {
      "text/plain": [
       "7.0"
      ]
     },
     "execution_count": 135,
     "metadata": {},
     "output_type": "execute_result"
    }
   ],
   "source": [
    "area_shape(3.7,4.2,\"triangle\")"
   ]
  },
  {
   "cell_type": "code",
   "execution_count": 144,
   "id": "2ac18899",
   "metadata": {},
   "outputs": [],
   "source": [
    "#17 You will need to write three unfinished logic gates. Continue to write the three logic gates: AND, OR, and NOT.\n",
    "def NOT(x):\n",
    "    return not x\n",
    "    "
   ]
  },
  {
   "cell_type": "code",
   "execution_count": 145,
   "id": "aff9e850",
   "metadata": {},
   "outputs": [
    {
     "data": {
      "text/plain": [
       "False"
      ]
     },
     "execution_count": 145,
     "metadata": {},
     "output_type": "execute_result"
    }
   ],
   "source": [
    "NOT(1)"
   ]
  },
  {
   "cell_type": "code",
   "execution_count": 149,
   "id": "6ee910bc",
   "metadata": {},
   "outputs": [],
   "source": [
    "#18 Given the person's age and whether break time is in session, create a function which returns whether he should serve drinks.\n",
    "def drinks(age, break_ornot):\n",
    "    if age>=18 and break_ornot == False:\n",
    "        return True\n",
    "    else:\n",
    "        return False"
   ]
  },
  {
   "cell_type": "code",
   "execution_count": 150,
   "id": "216a99dc",
   "metadata": {},
   "outputs": [
    {
     "data": {
      "text/plain": [
       "False"
      ]
     },
     "execution_count": 150,
     "metadata": {},
     "output_type": "execute_result"
    }
   ],
   "source": [
    "drinks(17,True)"
   ]
  },
  {
   "cell_type": "code",
   "execution_count": 152,
   "id": "ddb7e4d3",
   "metadata": {},
   "outputs": [
    {
     "data": {
      "text/plain": [
       "True"
      ]
     },
     "execution_count": 152,
     "metadata": {},
     "output_type": "execute_result"
    }
   ],
   "source": [
    "drinks(21,False)"
   ]
  },
  {
   "cell_type": "code",
   "execution_count": 5,
   "id": "f5fadcad",
   "metadata": {},
   "outputs": [],
   "source": [
    "#19 Write a function that returns the string \"even\" if the given integer is even, and the string \"odd\" if it's odd.\n",
    "def check_even(x):\n",
    "    b = x%2\n",
    "    if bool(b)== False:\n",
    "        return \"even\"\n",
    "    else:\n",
    "        return \"odd\"\n",
    "    "
   ]
  },
  {
   "cell_type": "code",
   "execution_count": 8,
   "id": "7a3cda84",
   "metadata": {},
   "outputs": [
    {
     "data": {
      "text/plain": [
       "'even'"
      ]
     },
     "execution_count": 8,
     "metadata": {},
     "output_type": "execute_result"
    }
   ],
   "source": [
    "check_even(-8)"
   ]
  },
  {
   "cell_type": "code",
   "execution_count": 10,
   "id": "58f4bbb1",
   "metadata": {},
   "outputs": [],
   "source": [
    "#20 Create a function that takes a string txt and a number n and returns the repeated string n number of times.\n",
    "#If given argument txt is not a string, return Not A String !!\n",
    "#Examples\n",
    "#repeat_string(\"Mubashir\", 2) ➞ \"MubashirMubashir\"\n",
    "#repeat_string(\"Matt\", 3) ➞ \"MattMattMatt\"\n",
    "#repeat_string(1990, 7) ➞ \"Not A String !!\"\n",
    "def repeat_string(s,n):\n",
    "    if type(s)== str:\n",
    "        return s*n\n",
    "    else:\n",
    "        return \"Not a string!\""
   ]
  },
  {
   "cell_type": "code",
   "execution_count": 13,
   "id": "fef34914",
   "metadata": {},
   "outputs": [
    {
     "data": {
      "text/plain": [
       "'Not a string!'"
      ]
     },
     "execution_count": 13,
     "metadata": {},
     "output_type": "execute_result"
    }
   ],
   "source": [
    "repeat_string(20,3)"
   ]
  },
  {
   "cell_type": "code",
   "execution_count": 14,
   "id": "608eed68",
   "metadata": {},
   "outputs": [
    {
     "data": {
      "text/plain": [
       "'HeyHeyHey'"
      ]
     },
     "execution_count": 14,
     "metadata": {},
     "output_type": "execute_result"
    }
   ],
   "source": [
    "repeat_string(\"Hey\",3)"
   ]
  },
  {
   "cell_type": "code",
   "execution_count": 29,
   "id": "804f80c0",
   "metadata": {},
   "outputs": [],
   "source": [
    "#21 A taxi journey costs $3 for the first kilometer travelled. However, all kilometers travelled after that will\n",
    "#cost $2 each.\n",
    "#Create a function which returns the distance that the taxi must've travelled, given the cost as a parameter.\n",
    "#Examples\n",
    "#journey_distance(3) ➞ 1\n",
    "# The first kilometer costs $3\n",
    "#journey_distance(9) ➞ 4\n",
    "# The first kilometer costs $3 plus the other three kilometers (costing $2 each)\n",
    "#journey_distance(5) ➞ 2\n",
    "\n",
    "def journey_distance(x):   \n",
    "    if x==3:\n",
    "        return 1\n",
    "    elif x!=0:\n",
    "        return int((x-3)/2+1) \n",
    "    else: \n",
    "        return \"No distance travelled yet\""
   ]
  },
  {
   "cell_type": "code",
   "execution_count": 30,
   "id": "eb597413",
   "metadata": {},
   "outputs": [
    {
     "data": {
      "text/plain": [
       "4"
      ]
     },
     "execution_count": 30,
     "metadata": {},
     "output_type": "execute_result"
    }
   ],
   "source": [
    "journey_distance(9)"
   ]
  },
  {
   "cell_type": "code",
   "execution_count": 31,
   "id": "7367585d",
   "metadata": {},
   "outputs": [],
   "source": [
    "#22 Given a list that contains the fulcrum \"f\", the effort \"e\", and the load \"l\", write a function that determines \n",
    "#whether or not the list shows a first class lever, second class lever, or a third class lever.\n",
    "#Examples\n",
    "#determine_lever([\"e\", \"f\", \"l\"]) ➞ \"first class lever\"\n",
    "#determine_lever([\"e\", \"l\", \"f\"]) ➞ \"second class lever\"\n",
    "#determine_lever([\"f\", \"e\", \"l\"]) ➞ \"third class lever\"\n",
    "\n",
    "def determine_lever(l):\n",
    "    if l[0]==\"e\" and l[1]==\"f\" and l[2]==\"l\":\n",
    "        return \"first class lever\"\n",
    "    elif l[0]==\"e\" and l[1]==\"l\" and l[2]==\"f\":\n",
    "        return \"second class lever\"\n",
    "    elif l[0]==\"f\" and l[1]==\"e\" and l[2]==\"l\":\n",
    "        return \"third class lever\"\n",
    "    else:\n",
    "        return \"No lever\""
   ]
  },
  {
   "cell_type": "code",
   "execution_count": 32,
   "id": "471b50b4",
   "metadata": {},
   "outputs": [
    {
     "data": {
      "text/plain": [
       "'second class lever'"
      ]
     },
     "execution_count": 32,
     "metadata": {},
     "output_type": "execute_result"
    }
   ],
   "source": [
    "determine_lever([\"e\", \"l\", \"f\"])"
   ]
  },
  {
   "cell_type": "code",
   "execution_count": 7,
   "id": "f245feda",
   "metadata": {},
   "outputs": [
    {
     "name": "stdout",
     "output_type": "stream",
     "text": [
      "Enter marks : 70\n",
      "pass!\n",
      "first class\n"
     ]
    }
   ],
   "source": [
    "#random\n",
    "m = float(input(\"Enter marks : \"))\n",
    "if (m>=40):\n",
    "    print(\"pass!\")\n",
    "    if m>=40 and m<55:\n",
    "        print(\"third class\")\n",
    "    elif m>=55 and m<65:\n",
    "        print(\"second class\")\n",
    "    elif m>=65 and m<75:\n",
    "        print(\"first class\")\n",
    "    else:\n",
    "        print(\"distiction\")\n",
    "        \n",
    "else: \n",
    "    print(\"fail\")"
   ]
  },
  {
   "cell_type": "code",
   "execution_count": 4,
   "id": "f079fc8c",
   "metadata": {},
   "outputs": [
    {
     "name": "stdout",
     "output_type": "stream",
     "text": [
      "enter a key: a\n",
      "yes\n",
      " value is : 1\n"
     ]
    }
   ],
   "source": [
    "#random\n",
    "d = {\"a\":1,\"b\":2,\"c\":3}\n",
    "k = input(\"enter a key: \")\n",
    "if k in d:\n",
    "    print(\"yes\\n\", \"value is :\",d[k])\n",
    "else:\n",
    "    print(\"no\")"
   ]
  },
  {
   "cell_type": "code",
   "execution_count": 36,
   "id": "9e22d226",
   "metadata": {},
   "outputs": [],
   "source": [
    "#23 Write a function that checks whether a person can watch an MA15+ rated movie. One of the following two \n",
    "#conditions is required for admittance:\n",
    "#The person is at least 15 years old.\n",
    "#They have parental supervision.\n",
    "#The function accepts two parameters, age and is_supervised. Return a boolean.\n",
    "#Examples\n",
    "#accept_into_movie(14, True) ➞ True\n",
    "#accept_into_movie(14, False) ➞ False\n",
    "#accept_into_movie(16, False) ➞ True\n",
    "def accept_into_movie(age, par):\n",
    "    return age>15 or par==True\n"
   ]
  },
  {
   "cell_type": "code",
   "execution_count": 38,
   "id": "d6a45afc",
   "metadata": {},
   "outputs": [
    {
     "data": {
      "text/plain": [
       "False"
      ]
     },
     "execution_count": 38,
     "metadata": {},
     "output_type": "execute_result"
    }
   ],
   "source": [
    "accept_into_movie(14, False)"
   ]
  },
  {
   "cell_type": "code",
   "execution_count": 39,
   "id": "6919d71c",
   "metadata": {},
   "outputs": [
    {
     "data": {
      "text/plain": [
       "True"
      ]
     },
     "execution_count": 39,
     "metadata": {},
     "output_type": "execute_result"
    }
   ],
   "source": [
    "accept_into_movie(16, False)"
   ]
  },
  {
   "cell_type": "code",
   "execution_count": 37,
   "id": "07ac169b",
   "metadata": {},
   "outputs": [
    {
     "data": {
      "text/plain": [
       "True"
      ]
     },
     "execution_count": 37,
     "metadata": {},
     "output_type": "execute_result"
    }
   ],
   "source": [
    "accept_into_movie(14, True)"
   ]
  },
  {
   "cell_type": "code",
   "execution_count": 40,
   "id": "9d64b75a",
   "metadata": {},
   "outputs": [],
   "source": [
    "#24 Create a function that returns a number, based on the string provided. Here is a list of all digits:\n",
    "#word(\"one\") ➞ 1\n",
    "#word(\"two\") ➞ 2\n",
    "#word(\"nine\") ➞ 9\n",
    "def word(s):\n",
    "    d={\"zero\":0,\"one\":1,\"two\":2,\"three\":3,\"four\":4,\"five\":5,\"six\":6,\"seven\":7,\"eight\":8,\"nine\":9}\n",
    "    if s in d:\n",
    "        return d[s]\n",
    "    else:\n",
    "        return \"Not a number.\""
   ]
  },
  {
   "cell_type": "code",
   "execution_count": 41,
   "id": "8ba15408",
   "metadata": {},
   "outputs": [
    {
     "data": {
      "text/plain": [
       "1"
      ]
     },
     "execution_count": 41,
     "metadata": {},
     "output_type": "execute_result"
    }
   ],
   "source": [
    "word(\"one\")"
   ]
  },
  {
   "cell_type": "code",
   "execution_count": 42,
   "id": "fcb367d0",
   "metadata": {},
   "outputs": [
    {
     "data": {
      "text/plain": [
       "9"
      ]
     },
     "execution_count": 42,
     "metadata": {},
     "output_type": "execute_result"
    }
   ],
   "source": [
    "word(\"nine\")"
   ]
  },
  {
   "cell_type": "code",
   "execution_count": 43,
   "id": "97a59cef",
   "metadata": {},
   "outputs": [
    {
     "data": {
      "text/plain": [
       "'Not a number.'"
      ]
     },
     "execution_count": 43,
     "metadata": {},
     "output_type": "execute_result"
    }
   ],
   "source": [
    "word(\"hey\")"
   ]
  },
  {
   "cell_type": "code",
   "execution_count": 48,
   "id": "0c9504d1",
   "metadata": {},
   "outputs": [],
   "source": [
    "#25 Write a function that uses the ternary operator to return \"yeah\" if b is True, and \"nope\" otherwise.\n",
    "def yeah_nope(b):\n",
    "    return \"yeah\" if b else \"nope\""
   ]
  },
  {
   "cell_type": "code",
   "execution_count": 49,
   "id": "a4933203",
   "metadata": {},
   "outputs": [
    {
     "data": {
      "text/plain": [
       "'yeah'"
      ]
     },
     "execution_count": 49,
     "metadata": {},
     "output_type": "execute_result"
    }
   ],
   "source": [
    "yeah_nope(True)"
   ]
  },
  {
   "cell_type": "code",
   "execution_count": 50,
   "id": "e867df3f",
   "metadata": {},
   "outputs": [
    {
     "data": {
      "text/plain": [
       "'nope'"
      ]
     },
     "execution_count": 50,
     "metadata": {},
     "output_type": "execute_result"
    }
   ],
   "source": [
    "yeah_nope(False)"
   ]
  },
  {
   "cell_type": "code",
   "execution_count": 82,
   "id": "d5734a62",
   "metadata": {},
   "outputs": [],
   "source": [
    "#26 Create a function that takes a number x and a character y (\"m\" for male, \"f\" for female), and returns the \n",
    "#name of an ancestor (m/f) or descendant (m/f).\n",
    "#If the number is negative, return the related ancestor.\n",
    "#If positive, return the related descendant.\n",
    "#You are generation 0. In the case of 0 (male or female), return \"me!\".\n",
    "#Examples\n",
    "#generation(2, \"f\") ➞ \"granddaughter\"\n",
    "#generation(-3, \"m\") ➞ \"great grandfather\"\n",
    "#generation(1, \"f\") ➞ \"daughter\"\n",
    "def generation(n,s):\n",
    "    \n",
    "    if n==1 and s==\"f\":\n",
    "        return \"daughter\"\n",
    "    elif n==2 and s==\"f\":\n",
    "        return \"granddaughter\"\n",
    "    elif n>2 and s==\"f\":\n",
    "        return (\"great \"*(n-2)+\"granddaughter\")\n",
    "    elif n==-1 and s==\"f\":\n",
    "        return \"mother\"\n",
    "    elif n==-2 and s==\"f\":\n",
    "        return \"grandmother\"\n",
    "    elif n<-2 and s==\"f\":\n",
    "        return (\"great \"*(-n-2)+\"grandmother\")\n",
    "    elif n==1 and s==\"m\":\n",
    "        return \"son\"\n",
    "    elif n==2 and s==\"m\":\n",
    "        return \"grandson\"\n",
    "    elif n>2 and s==\"m\":\n",
    "        return (\"great \"*(n-2)+\"grandson\")\n",
    "    elif n==-1 and s==\"m\":\n",
    "        return \"father\"\n",
    "    elif n==-2 and s==\"m\":\n",
    "        return \"grandfather\"\n",
    "    elif n<-2 and s==\"m\":\n",
    "        return (\"great \"*(-n-2)+\"grandfather\")\n",
    "    else:\n",
    "        return \"me!\"\n"
   ]
  },
  {
   "cell_type": "code",
   "execution_count": 87,
   "id": "ff4578d6",
   "metadata": {},
   "outputs": [
    {
     "data": {
      "text/plain": [
       "'granddaughter'"
      ]
     },
     "execution_count": 87,
     "metadata": {},
     "output_type": "execute_result"
    }
   ],
   "source": [
    "generation(2, \"f\")"
   ]
  },
  {
   "cell_type": "code",
   "execution_count": 88,
   "id": "c33753d4",
   "metadata": {},
   "outputs": [
    {
     "data": {
      "text/plain": [
       "'great grandfather'"
      ]
     },
     "execution_count": 88,
     "metadata": {},
     "output_type": "execute_result"
    }
   ],
   "source": [
    "generation(-3, \"m\")"
   ]
  },
  {
   "cell_type": "code",
   "execution_count": 1,
   "id": "ecbbe3b6",
   "metadata": {},
   "outputs": [],
   "source": [
    "#27 Backpack Bill and Wallet Will set off for the annual festival. As they approach the stalls, Bill retorts that \n",
    "#he'll be able to bring home more stuff than Will. Taking this as a challenge, Will refutes and a competition \n",
    "#spurs into action.\n",
    "#Backpack Bill has an infinite inventory space, but a limited number of coins.\n",
    "#Wallet Will has an infinite number of coins, but a limited inventory space.\n",
    "#Create a function that returns the name of the man who can bring home the most items. The parameters are given\n",
    "#as follows:\n",
    "#Bill's amount of money.\n",
    "#Will's amount of inventory space.\n",
    "#The item's price.\n",
    "#The item's size.\n",
    "\n",
    "def winner(b_money,w_space,price,size):\n",
    "    b_item=b_money/price\n",
    "    w_item=w_space/size\n",
    "    if b_item>w_item:\n",
    "        print(\"Bill wins!\")\n",
    "    elif b_item<w_item:\n",
    "        print(\"Will wins!\")\n",
    "    else:\n",
    "        return \"Tie!\""
   ]
  },
  {
   "cell_type": "code",
   "execution_count": 2,
   "id": "607386f5",
   "metadata": {},
   "outputs": [
    {
     "name": "stdout",
     "output_type": "stream",
     "text": [
      "Bill wins!\n"
     ]
    }
   ],
   "source": [
    "winner(100,100,20,30)"
   ]
  },
  {
   "cell_type": "code",
   "execution_count": 94,
   "id": "347fc859",
   "metadata": {},
   "outputs": [],
   "source": [
    "#28 Create a function that validates whether a number n is within the bounds of lower and upper. Return False\n",
    "#if n is not an integer.\n",
    "#Examples\n",
    "#int_within_bounds(3, 1, 9) ➞ True\n",
    "#int_within_bounds(6, 1, 6) ➞ False\n",
    "#int_within_bounds(4.5, 3, 8) ➞ False\n",
    "\n",
    "def int_within_bounds(n,lower,upper):\n",
    "    if type(n)==int:\n",
    "        if n>=lower and n<upper:\n",
    "            return True\n",
    "        else:\n",
    "            return False\n",
    "    else:\n",
    "        return False"
   ]
  },
  {
   "cell_type": "code",
   "execution_count": 95,
   "id": "e1324c15",
   "metadata": {},
   "outputs": [
    {
     "data": {
      "text/plain": [
       "True"
      ]
     },
     "execution_count": 95,
     "metadata": {},
     "output_type": "execute_result"
    }
   ],
   "source": [
    "int_within_bounds(3, 1, 9)"
   ]
  },
  {
   "cell_type": "code",
   "execution_count": 97,
   "id": "8affc900",
   "metadata": {},
   "outputs": [
    {
     "data": {
      "text/plain": [
       "False"
      ]
     },
     "execution_count": 97,
     "metadata": {},
     "output_type": "execute_result"
    }
   ],
   "source": [
    "int_within_bounds(6, 1, 6)"
   ]
  },
  {
   "cell_type": "code",
   "execution_count": 98,
   "id": "88fffd11",
   "metadata": {},
   "outputs": [
    {
     "data": {
      "text/plain": [
       "False"
      ]
     },
     "execution_count": 98,
     "metadata": {},
     "output_type": "execute_result"
    }
   ],
   "source": [
    "int_within_bounds(4.5, 3, 8)"
   ]
  },
  {
   "cell_type": "code",
   "execution_count": 104,
   "id": "8e3afa1f",
   "metadata": {},
   "outputs": [],
   "source": [
    "#29 Write a function that returns the boolean True if the given number is zero, the string \"positive\" if the \n",
    "#number is greater than zero or the string \"negative\" if it's smaller than zero.\n",
    "def num(n):\n",
    "    if n>0:\n",
    "        return \"positive\"\n",
    "    elif n<0:\n",
    "        return \"negative\"\n",
    "    else:\n",
    "        return True"
   ]
  },
  {
   "cell_type": "code",
   "execution_count": 100,
   "id": "f9670553",
   "metadata": {},
   "outputs": [
    {
     "data": {
      "text/plain": [
       "True"
      ]
     },
     "execution_count": 100,
     "metadata": {},
     "output_type": "execute_result"
    }
   ],
   "source": [
    "num(0)"
   ]
  },
  {
   "cell_type": "code",
   "execution_count": 101,
   "id": "e12fdb50",
   "metadata": {},
   "outputs": [
    {
     "data": {
      "text/plain": [
       "'positive'"
      ]
     },
     "execution_count": 101,
     "metadata": {},
     "output_type": "execute_result"
    }
   ],
   "source": [
    "num(6)"
   ]
  },
  {
   "cell_type": "code",
   "execution_count": 105,
   "id": "5d655992",
   "metadata": {},
   "outputs": [
    {
     "data": {
      "text/plain": [
       "'negative'"
      ]
     },
     "execution_count": 105,
     "metadata": {},
     "output_type": "execute_result"
    }
   ],
   "source": [
    "num(-9)"
   ]
  },
  {
   "cell_type": "code",
   "execution_count": 106,
   "id": "4bcdfdec",
   "metadata": {},
   "outputs": [],
   "source": [
    "#30 Create a function that takes three numbers as arguments and returns True if it's a triangle and False if not.\n",
    "\n",
    "def triangle(s1,s2,s3):\n",
    "    return (s1+s2>s3 or s2+s3>s1 or s3+s1>s2) and ((s1+s2)!=s3 and (s2+s3)!=s1 and (s3+s1)!=s2)\n"
   ]
  },
  {
   "cell_type": "code",
   "execution_count": 13,
   "id": "0f21db93",
   "metadata": {},
   "outputs": [
    {
     "data": {
      "text/plain": [
       "False"
      ]
     },
     "execution_count": 13,
     "metadata": {},
     "output_type": "execute_result"
    }
   ],
   "source": [
    "triangle(7,4,3)"
   ]
  },
  {
   "cell_type": "code",
   "execution_count": 107,
   "id": "a9ecf58b",
   "metadata": {},
   "outputs": [
    {
     "data": {
      "text/plain": [
       "True"
      ]
     },
     "execution_count": 107,
     "metadata": {},
     "output_type": "execute_result"
    }
   ],
   "source": [
    "triangle(2, 3, 4)"
   ]
  },
  {
   "cell_type": "code",
   "execution_count": 112,
   "id": "fca8c884",
   "metadata": {},
   "outputs": [
    {
     "data": {
      "text/plain": [
       "True"
      ]
     },
     "execution_count": 112,
     "metadata": {},
     "output_type": "execute_result"
    }
   ],
   "source": [
    "triangle(3,4,5)"
   ]
  },
  {
   "cell_type": "code",
   "execution_count": 114,
   "id": "804ef15c",
   "metadata": {},
   "outputs": [],
   "source": [
    "#31 Create a function that takes an argument of any data type and returns 1 if it's truthy and 0 if it's falsy.\n",
    "\n",
    "def is_truthy(x):\n",
    "    return not(x==False or x==None or x==0 or x==[] or x=={} or x==\"\")"
   ]
  },
  {
   "cell_type": "code",
   "execution_count": 115,
   "id": "cf7f3fcd",
   "metadata": {},
   "outputs": [
    {
     "data": {
      "text/plain": [
       "False"
      ]
     },
     "execution_count": 115,
     "metadata": {},
     "output_type": "execute_result"
    }
   ],
   "source": [
    "is_truthy(0)"
   ]
  },
  {
   "cell_type": "code",
   "execution_count": 116,
   "id": "573a2825",
   "metadata": {},
   "outputs": [
    {
     "data": {
      "text/plain": [
       "False"
      ]
     },
     "execution_count": 116,
     "metadata": {},
     "output_type": "execute_result"
    }
   ],
   "source": [
    "is_truthy(False)"
   ]
  },
  {
   "cell_type": "code",
   "execution_count": 117,
   "id": "3bf55ace",
   "metadata": {},
   "outputs": [
    {
     "data": {
      "text/plain": [
       "False"
      ]
     },
     "execution_count": 117,
     "metadata": {},
     "output_type": "execute_result"
    }
   ],
   "source": [
    "is_truthy(\"\")"
   ]
  },
  {
   "cell_type": "code",
   "execution_count": 118,
   "id": "591e70e8",
   "metadata": {},
   "outputs": [
    {
     "data": {
      "text/plain": [
       "True"
      ]
     },
     "execution_count": 118,
     "metadata": {},
     "output_type": "execute_result"
    }
   ],
   "source": [
    "is_truthy(\"False\")"
   ]
  },
  {
   "cell_type": "code",
   "execution_count": 126,
   "id": "9e2cbe2f",
   "metadata": {},
   "outputs": [],
   "source": [
    "#32 Write a function that returns True if both numbers are:\n",
    "#Smaller than 0, OR ...\n",
    "#Greater than 0, OR ...\n",
    "#Exactly 0\n",
    "#Otherwise, return False.\n",
    "\n",
    "def both(a,b):\n",
    "    return (a>0 and b>0) or (a<0 and b<0) or (a==0 and b==0)\n",
    "    "
   ]
  },
  {
   "cell_type": "code",
   "execution_count": 122,
   "id": "55cb8996",
   "metadata": {},
   "outputs": [
    {
     "data": {
      "text/plain": [
       "True"
      ]
     },
     "execution_count": 122,
     "metadata": {},
     "output_type": "execute_result"
    }
   ],
   "source": [
    "both(6, 2)"
   ]
  },
  {
   "cell_type": "code",
   "execution_count": 127,
   "id": "ebdc8a93",
   "metadata": {},
   "outputs": [
    {
     "data": {
      "text/plain": [
       "True"
      ]
     },
     "execution_count": 127,
     "metadata": {},
     "output_type": "execute_result"
    }
   ],
   "source": [
    "both(0 , 0)"
   ]
  },
  {
   "cell_type": "code",
   "execution_count": 128,
   "id": "f9fe5e78",
   "metadata": {},
   "outputs": [
    {
     "data": {
      "text/plain": [
       "False"
      ]
     },
     "execution_count": 128,
     "metadata": {},
     "output_type": "execute_result"
    }
   ],
   "source": [
    "both(-1, 2)"
   ]
  },
  {
   "cell_type": "code",
   "execution_count": 129,
   "id": "517f22ef",
   "metadata": {},
   "outputs": [
    {
     "data": {
      "text/plain": [
       "False"
      ]
     },
     "execution_count": 129,
     "metadata": {},
     "output_type": "execute_result"
    }
   ],
   "source": [
    "both(0, 2)"
   ]
  },
  {
   "cell_type": "code",
   "execution_count": 136,
   "id": "20877817",
   "metadata": {},
   "outputs": [],
   "source": [
    "#33 Create a function that takes a list. This list will contain numbers represented as strings.Your function should\n",
    "#split this list into two new lists. The first list should contain only even numbers. The second only odd. Then, \n",
    "#wrap these two lists in one main list and return it.Return an empty list if there are no even numbers, or odd.\n",
    "def clean_up_list(l):\n",
    "    le=[];lo=[];l1=[le,lo]\n",
    "    for i in l:\n",
    "        if int(i)%2==0:\n",
    "            le.append(i)\n",
    "        elif int(i)%2==1:\n",
    "            lo.append(i)\n",
    "    return l1\n",
    "        "
   ]
  },
  {
   "cell_type": "code",
   "execution_count": 137,
   "id": "f4a0a088",
   "metadata": {},
   "outputs": [
    {
     "data": {
      "text/plain": [
       "[['8'], []]"
      ]
     },
     "execution_count": 137,
     "metadata": {},
     "output_type": "execute_result"
    }
   ],
   "source": [
    "clean_up_list([\"8\"])"
   ]
  },
  {
   "cell_type": "code",
   "execution_count": 138,
   "id": "008c6c07",
   "metadata": {},
   "outputs": [
    {
     "data": {
      "text/plain": [
       "[[], ['11']]"
      ]
     },
     "execution_count": 138,
     "metadata": {},
     "output_type": "execute_result"
    }
   ],
   "source": [
    "clean_up_list([\"11\"])"
   ]
  },
  {
   "cell_type": "code",
   "execution_count": 139,
   "id": "e4c9dab9",
   "metadata": {},
   "outputs": [
    {
     "data": {
      "text/plain": [
       "[['4', '8'], ['7']]"
      ]
     },
     "execution_count": 139,
     "metadata": {},
     "output_type": "execute_result"
    }
   ],
   "source": [
    "clean_up_list([\"7\", \"4\", \"8\"])"
   ]
  },
  {
   "cell_type": "code",
   "execution_count": 140,
   "id": "e96fca78",
   "metadata": {},
   "outputs": [
    {
     "data": {
      "text/plain": [
       "[['4', '8'], ['9', '5']]"
      ]
     },
     "execution_count": 140,
     "metadata": {},
     "output_type": "execute_result"
    }
   ],
   "source": [
    "clean_up_list([\"9\", \"4\", \"5\", \"8\"])"
   ]
  },
  {
   "cell_type": "code",
   "execution_count": 142,
   "id": "4a73f025",
   "metadata": {},
   "outputs": [],
   "source": [
    "#34 Create a function that takes a range object r, index i, and returns a list where the first element is the number of\n",
    "#elements in the range object, and the second element is the element of the range object at the given index.\n",
    "\n",
    "def length_element(r, i):\n",
    "    l=[]\n",
    "    l.append(len(r))\n",
    "    l.append(r[i])\n",
    "    return l"
   ]
  },
  {
   "cell_type": "code",
   "execution_count": 143,
   "id": "2b308725",
   "metadata": {},
   "outputs": [
    {
     "data": {
      "text/plain": [
       "[2, 2]"
      ]
     },
     "execution_count": 143,
     "metadata": {},
     "output_type": "execute_result"
    }
   ],
   "source": [
    "length_element(range(2, 4), 0)"
   ]
  },
  {
   "cell_type": "code",
   "execution_count": 144,
   "id": "dfe815af",
   "metadata": {},
   "outputs": [
    {
     "data": {
      "text/plain": [
       "[2, 14]"
      ]
     },
     "execution_count": 144,
     "metadata": {},
     "output_type": "execute_result"
    }
   ],
   "source": [
    "length_element(range(12, 15, 2), 1)"
   ]
  },
  {
   "cell_type": "code",
   "execution_count": 145,
   "id": "9fb8aec8",
   "metadata": {},
   "outputs": [
    {
     "data": {
      "text/plain": [
       "[4, 46]"
      ]
     },
     "execution_count": 145,
     "metadata": {},
     "output_type": "execute_result"
    }
   ],
   "source": [
    "length_element(range(40, 50, 3), 2)"
   ]
  },
  {
   "cell_type": "code",
   "execution_count": 175,
   "id": "0ee623be",
   "metadata": {},
   "outputs": [],
   "source": [
    "#35 When creating variables, the variable name must always start with a letter and cannot contain spaces, though \n",
    "#numbers and underscores are allowed to be contained in it also.\n",
    "#Create a function which returns True if a given variable name is valid, otherwise return False.\n",
    "def variable_valid(s):\n",
    "           if s[0].isalpha()==True:            \n",
    "            return True\n",
    "        else:\n",
    "            return False"
   ]
  },
  {
   "cell_type": "code",
   "execution_count": 176,
   "id": "d4d0cb3b",
   "metadata": {},
   "outputs": [
    {
     "data": {
      "text/plain": [
       "True"
      ]
     },
     "execution_count": 176,
     "metadata": {},
     "output_type": "execute_result"
    }
   ],
   "source": [
    "variable_valid(\"result\")"
   ]
  },
  {
   "cell_type": "code",
   "execution_count": 180,
   "id": "34729cd7",
   "metadata": {},
   "outputs": [
    {
     "data": {
      "text/plain": [
       "True"
      ]
     },
     "execution_count": 180,
     "metadata": {},
     "output_type": "execute_result"
    }
   ],
   "source": [
    "variable_valid(\"odd_nums\")"
   ]
  },
  {
   "cell_type": "code",
   "execution_count": 177,
   "id": "22c519ae",
   "metadata": {},
   "outputs": [
    {
     "data": {
      "text/plain": [
       "False"
      ]
     },
     "execution_count": 177,
     "metadata": {},
     "output_type": "execute_result"
    }
   ],
   "source": [
    "variable_valid(\"2TimesN\") "
   ]
  },
  {
   "cell_type": "code",
   "execution_count": 181,
   "id": "b2f345fd",
   "metadata": {},
   "outputs": [],
   "source": [
    "#36 Create a function that takes two integers and checks if they are equal.\n",
    "def is_equal(a,b):\n",
    "    return a==b"
   ]
  },
  {
   "cell_type": "code",
   "execution_count": 182,
   "id": "29dc24d6",
   "metadata": {},
   "outputs": [
    {
     "data": {
      "text/plain": [
       "False"
      ]
     },
     "execution_count": 182,
     "metadata": {},
     "output_type": "execute_result"
    }
   ],
   "source": [
    "is_equal(5, 6)"
   ]
  },
  {
   "cell_type": "code",
   "execution_count": 183,
   "id": "abf55121",
   "metadata": {},
   "outputs": [
    {
     "data": {
      "text/plain": [
       "True"
      ]
     },
     "execution_count": 183,
     "metadata": {},
     "output_type": "execute_result"
    }
   ],
   "source": [
    "is_equal(1, 1)"
   ]
  },
  {
   "cell_type": "code",
   "execution_count": 185,
   "id": "04675660",
   "metadata": {},
   "outputs": [
    {
     "data": {
      "text/plain": [
       "False"
      ]
     },
     "execution_count": 185,
     "metadata": {},
     "output_type": "execute_result"
    }
   ],
   "source": [
    "is_equal(\"1\", 1) "
   ]
  },
  {
   "cell_type": "code",
   "execution_count": 187,
   "id": "28cfa7b8",
   "metadata": {},
   "outputs": [],
   "source": [
    "#37 n a board game, a piece may advance 1-6 tiles forward depending on the number rolled on a six-sided die. \n",
    "#If you advance your piece onto the same tile as another player's piece, both of you earn a bonus.Can you reach \n",
    "#your friend's tile number in the next roll? Create a function that returns if it's possible to earn a bonus when \n",
    "#you roll the die.\n",
    "def possible_bonus(a, b):\n",
    "    return a<b and (b-a)<=6\n",
    "        "
   ]
  },
  {
   "cell_type": "code",
   "execution_count": 188,
   "id": "758aca0b",
   "metadata": {},
   "outputs": [
    {
     "data": {
      "text/plain": [
       "True"
      ]
     },
     "execution_count": 188,
     "metadata": {},
     "output_type": "execute_result"
    }
   ],
   "source": [
    "possible_bonus(3, 7)"
   ]
  },
  {
   "cell_type": "code",
   "execution_count": 189,
   "id": "7f50305c",
   "metadata": {},
   "outputs": [
    {
     "data": {
      "text/plain": [
       "False"
      ]
     },
     "execution_count": 189,
     "metadata": {},
     "output_type": "execute_result"
    }
   ],
   "source": [
    "possible_bonus(1, 9)"
   ]
  },
  {
   "cell_type": "code",
   "execution_count": 190,
   "id": "85a44e3f",
   "metadata": {},
   "outputs": [
    {
     "data": {
      "text/plain": [
       "False"
      ]
     },
     "execution_count": 190,
     "metadata": {},
     "output_type": "execute_result"
    }
   ],
   "source": [
    "possible_bonus(5, 3)"
   ]
  },
  {
   "cell_type": "code",
   "execution_count": 196,
   "id": "8bf3db9b",
   "metadata": {},
   "outputs": [],
   "source": [
    "#38 Write a function that takes a string name and a number num (either 0 or 1) and return \"Hello\" + name if num is 1,\n",
    "#otherwise return \"Bye\" + name.\n",
    "def say_hello_bye(s,n):\n",
    "    return \"Hello \"+s.title() if n==1 else \"Bye \"+s.title()"
   ]
  },
  {
   "cell_type": "code",
   "execution_count": 197,
   "id": "0d2c2ab3",
   "metadata": {},
   "outputs": [
    {
     "data": {
      "text/plain": [
       "'Hello Alon'"
      ]
     },
     "execution_count": 197,
     "metadata": {},
     "output_type": "execute_result"
    }
   ],
   "source": [
    "say_hello_bye(\"alon\", 1)"
   ]
  },
  {
   "cell_type": "code",
   "execution_count": 198,
   "id": "d6db7d93",
   "metadata": {},
   "outputs": [
    {
     "data": {
      "text/plain": [
       "'Bye Tomi'"
      ]
     },
     "execution_count": 198,
     "metadata": {},
     "output_type": "execute_result"
    }
   ],
   "source": [
    "say_hello_bye(\"Tomi\", 0)"
   ]
  },
  {
   "cell_type": "code",
   "execution_count": 199,
   "id": "e393c003",
   "metadata": {},
   "outputs": [
    {
     "data": {
      "text/plain": [
       "'Bye Jose'"
      ]
     },
     "execution_count": 199,
     "metadata": {},
     "output_type": "execute_result"
    }
   ],
   "source": [
    "say_hello_bye(\"jose\", 0)"
   ]
  },
  {
   "cell_type": "code",
   "execution_count": 200,
   "id": "b5e77f3f",
   "metadata": {},
   "outputs": [],
   "source": [
    "#39 Create a function that takes three number arguments — one number as an input and two additional numbers \n",
    "#representing the endpoints of a closed range — and return the number limited to this range.\n",
    "#If the number falls within the range, the number should be returned.\n",
    "#If the number is less than the lower limit of the range, the lower limit should be returned.\n",
    "#If the number is greater than the upper limit of the range, the upper limit should be returned.\n",
    "\n",
    "def limit_number(num, range_low, range_high):\n",
    "    if range_low<num<range_high:\n",
    "        return num\n",
    "    elif num<range_low:\n",
    "        return range_low\n",
    "    else:\n",
    "        return range_high"
   ]
  },
  {
   "cell_type": "code",
   "execution_count": 201,
   "id": "56b20755",
   "metadata": {},
   "outputs": [
    {
     "data": {
      "text/plain": [
       "5"
      ]
     },
     "execution_count": 201,
     "metadata": {},
     "output_type": "execute_result"
    }
   ],
   "source": [
    "limit_number(5, 1, 10)"
   ]
  },
  {
   "cell_type": "code",
   "execution_count": 202,
   "id": "500af1ea",
   "metadata": {},
   "outputs": [
    {
     "data": {
      "text/plain": [
       "1"
      ]
     },
     "execution_count": 202,
     "metadata": {},
     "output_type": "execute_result"
    }
   ],
   "source": [
    "limit_number(-3, 1, 10)"
   ]
  },
  {
   "cell_type": "code",
   "execution_count": 203,
   "id": "186cfb46",
   "metadata": {},
   "outputs": [
    {
     "data": {
      "text/plain": [
       "10"
      ]
     },
     "execution_count": 203,
     "metadata": {},
     "output_type": "execute_result"
    }
   ],
   "source": [
    "limit_number(14, 1, 10)"
   ]
  },
  {
   "cell_type": "code",
   "execution_count": 204,
   "id": "921ec610",
   "metadata": {},
   "outputs": [
    {
     "data": {
      "text/plain": [
       "4.6"
      ]
     },
     "execution_count": 204,
     "metadata": {},
     "output_type": "execute_result"
    }
   ],
   "source": [
    "limit_number(4.6, 1, 10)"
   ]
  },
  {
   "cell_type": "code",
   "execution_count": 222,
   "id": "25b5e717",
   "metadata": {},
   "outputs": [],
   "source": [
    "#40 Write a function that takes an integer and:\n",
    "#If the number is a multiple of 3, return \"Hello\".\n",
    "#If the number is a multiple of 5, return \"World\".\n",
    "#If the number is a multiple of both 3 and 5, return \"Hello World\".\n",
    "\n",
    "def hello_world(n):\n",
    "    if n%3==0 and n%5==0:\n",
    "        return \"Hello World\"\n",
    "    elif n%3==0:\n",
    "        return \"Hello\"\n",
    "    elif n%5==0:\n",
    "        return \"World\""
   ]
  },
  {
   "cell_type": "code",
   "execution_count": 214,
   "id": "2307ce4b",
   "metadata": {},
   "outputs": [
    {
     "data": {
      "text/plain": [
       "'Hello'"
      ]
     },
     "execution_count": 214,
     "metadata": {},
     "output_type": "execute_result"
    }
   ],
   "source": [
    "hello_world(3)"
   ]
  },
  {
   "cell_type": "code",
   "execution_count": 208,
   "id": "bf6f85ed",
   "metadata": {},
   "outputs": [
    {
     "data": {
      "text/plain": [
       "'World'"
      ]
     },
     "execution_count": 208,
     "metadata": {},
     "output_type": "execute_result"
    }
   ],
   "source": [
    "hello_world(5)"
   ]
  },
  {
   "cell_type": "code",
   "execution_count": 223,
   "id": "8b1adb6d",
   "metadata": {},
   "outputs": [
    {
     "data": {
      "text/plain": [
       "'Hello World'"
      ]
     },
     "execution_count": 223,
     "metadata": {},
     "output_type": "execute_result"
    }
   ],
   "source": [
    "hello_world(15)"
   ]
  },
  {
   "cell_type": "code",
   "execution_count": 226,
   "id": "5b54007d",
   "metadata": {},
   "outputs": [],
   "source": [
    "#41 iven a string and a style character, return the newly formatted string. Style characters are single letters \n",
    "#that represent the different types of formatting.\n",
    "#For the purposes of this challenge, the style characters are as follows:\n",
    "#\"b\" is for bold\n",
    "#\"i\" is for italics\n",
    "#\"c\" is for inline code\n",
    "#\"s\" is for strikethrough\n",
    "def md_format(word, style):\n",
    "    if style==\"b\":\n",
    "        return \"**\"+word+\"**\"\n",
    "    elif style==\"i\":\n",
    "        return \"_\"+word+\"_\"\n",
    "    elif style==\"c\":\n",
    "        return \"'\"+word+\"'\"\n",
    "    elif style==\"s\":\n",
    "        return \"~~\"+word+\"~~\""
   ]
  },
  {
   "cell_type": "code",
   "execution_count": 227,
   "id": "0e42f669",
   "metadata": {},
   "outputs": [
    {
     "data": {
      "text/plain": [
       "'**Bold**'"
      ]
     },
     "execution_count": 227,
     "metadata": {},
     "output_type": "execute_result"
    }
   ],
   "source": [
    "md_format(\"Bold\", \"b\")"
   ]
  },
  {
   "cell_type": "code",
   "execution_count": 228,
   "id": "5448e550",
   "metadata": {},
   "outputs": [
    {
     "data": {
      "text/plain": [
       "'_leaning text_'"
      ]
     },
     "execution_count": 228,
     "metadata": {},
     "output_type": "execute_result"
    }
   ],
   "source": [
    "md_format(\"leaning text\", \"i\")"
   ]
  },
  {
   "cell_type": "code",
   "execution_count": 229,
   "id": "2d57b658",
   "metadata": {},
   "outputs": [
    {
     "data": {
      "text/plain": [
       "\"'Edabit'\""
      ]
     },
     "execution_count": 229,
     "metadata": {},
     "output_type": "execute_result"
    }
   ],
   "source": [
    "md_format(\"Edabit\", \"c\")"
   ]
  },
  {
   "cell_type": "code",
   "execution_count": 230,
   "id": "175df40d",
   "metadata": {},
   "outputs": [
    {
     "data": {
      "text/plain": [
       "\"~~That's a strike!~~\""
      ]
     },
     "execution_count": 230,
     "metadata": {},
     "output_type": "execute_result"
    }
   ],
   "source": [
    "md_format(\"That's a strike!\", \"s\")"
   ]
  },
  {
   "cell_type": "code",
   "execution_count": 248,
   "id": "a68b2159",
   "metadata": {},
   "outputs": [],
   "source": [
    "#42 Write a function that returns True if a year is a leap, otherwise return False.A year is a \"leap year\" if it \n",
    "#lasts 366 days, instead of 365 in a typical year. That extra day is added to the end of the shortest month, \n",
    "#creating February 29.A leap year occurs every four years, and will take place if the year is a multiple of four.\n",
    "#The exception to this is a year at the beginning of a century (for example, 1900 or 2000), where the year must\n",
    "#be divisible by 400 to be a leap year.Look at the examples, and if you need help, look at the resources panel.\n",
    "def leap_year(y):\n",
    "    if y%100==0:\n",
    "        return y%400==0\n",
    "            \n",
    "    elif y%4==0:\n",
    "        return True\n",
    "    else:\n",
    "        return False"
   ]
  },
  {
   "cell_type": "code",
   "execution_count": 250,
   "id": "4d6b46f2",
   "metadata": {},
   "outputs": [
    {
     "data": {
      "text/plain": [
       "True"
      ]
     },
     "execution_count": 250,
     "metadata": {},
     "output_type": "execute_result"
    }
   ],
   "source": [
    "leap_year(1924)"
   ]
  },
  {
   "cell_type": "code",
   "execution_count": 255,
   "id": "6b6e9d1e",
   "metadata": {},
   "outputs": [
    {
     "data": {
      "text/plain": [
       "False"
      ]
     },
     "execution_count": 255,
     "metadata": {},
     "output_type": "execute_result"
    }
   ],
   "source": [
    "leap_year(1990)"
   ]
  },
  {
   "cell_type": "code",
   "execution_count": 249,
   "id": "7424b7ac",
   "metadata": {},
   "outputs": [
    {
     "data": {
      "text/plain": [
       "False"
      ]
     },
     "execution_count": 249,
     "metadata": {},
     "output_type": "execute_result"
    }
   ],
   "source": [
    "leap_year(1900)"
   ]
  },
  {
   "cell_type": "code",
   "execution_count": 257,
   "id": "e216e974",
   "metadata": {},
   "outputs": [],
   "source": [
    "#43 Given a pH value, return whether that value is \"alkaline\" (greater than 7), \"acidic\" (less than 7), or\n",
    "#\"neutral\" (7). Return \"invalid\" if the value given is less than 0 or greater than 14.\n",
    "\n",
    "def pH_name(v):\n",
    "    if 0<=v<7:\n",
    "        return \"acidic\"\n",
    "    elif 8<=v<=14:\n",
    "        return \"alkaline\"\n",
    "    elif v==7:\n",
    "        return \"neutral\"\n",
    "    else:\n",
    "        return \"invalid\""
   ]
  },
  {
   "cell_type": "code",
   "execution_count": 258,
   "id": "2fc9fc10",
   "metadata": {},
   "outputs": [
    {
     "data": {
      "text/plain": [
       "'acidic'"
      ]
     },
     "execution_count": 258,
     "metadata": {},
     "output_type": "execute_result"
    }
   ],
   "source": [
    "pH_name(5)"
   ]
  },
  {
   "cell_type": "code",
   "execution_count": 259,
   "id": "5742bd40",
   "metadata": {},
   "outputs": [
    {
     "data": {
      "text/plain": [
       "'neutral'"
      ]
     },
     "execution_count": 259,
     "metadata": {},
     "output_type": "execute_result"
    }
   ],
   "source": [
    "pH_name(7)"
   ]
  },
  {
   "cell_type": "code",
   "execution_count": 261,
   "id": "4710ce28",
   "metadata": {},
   "outputs": [
    {
     "data": {
      "text/plain": [
       "'alkaline'"
      ]
     },
     "execution_count": 261,
     "metadata": {},
     "output_type": "execute_result"
    }
   ],
   "source": [
    "pH_name(8.9)"
   ]
  },
  {
   "cell_type": "code",
   "execution_count": 266,
   "id": "36498414",
   "metadata": {},
   "outputs": [],
   "source": [
    "#44 Create a function that takes an array of hurdle heights and a jumper's jump height, and determine \n",
    "# whether or not the hurdler can clear all the hurdles.A hurdler can clear a hurdle if their \n",
    "# jump height is greater than or equal to the hurdle height.\n",
    "def hurdle_jump(hurdles, jump_height):\n",
    "    return jump_height>=max(hurdles)"
   ]
  },
  {
   "cell_type": "code",
   "execution_count": 267,
   "id": "a818c81e",
   "metadata": {},
   "outputs": [
    {
     "data": {
      "text/plain": [
       "True"
      ]
     },
     "execution_count": 267,
     "metadata": {},
     "output_type": "execute_result"
    }
   ],
   "source": [
    "hurdle_jump([1, 2, 3, 4, 5], 5)"
   ]
  },
  {
   "cell_type": "code",
   "execution_count": 268,
   "id": "e1d4c2a9",
   "metadata": {},
   "outputs": [
    {
     "data": {
      "text/plain": [
       "False"
      ]
     },
     "execution_count": 268,
     "metadata": {},
     "output_type": "execute_result"
    }
   ],
   "source": [
    "hurdle_jump([5, 5, 3, 4, 5], 3)"
   ]
  },
  {
   "cell_type": "code",
   "execution_count": 269,
   "id": "a8ae39d2",
   "metadata": {},
   "outputs": [
    {
     "data": {
      "text/plain": [
       "False"
      ]
     },
     "execution_count": 269,
     "metadata": {},
     "output_type": "execute_result"
    }
   ],
   "source": [
    "hurdle_jump([1, 2, 1], 1)"
   ]
  },
  {
   "cell_type": "code",
   "execution_count": 271,
   "id": "d5f00760",
   "metadata": {},
   "outputs": [],
   "source": [
    "#45 Create a function which returns the type of triangle, given the side lengths. Return the following values if \n",
    "#they match the criteria.\n",
    "#No sides equal: \"scalene\"\n",
    "#Two sides equal: \"isosceles\"\n",
    "#All sides equal: \"equilateral\"\n",
    "#Less or more than 3 sides given: \"not a triangle\"\n",
    "def get_triangle_type(l):\n",
    "    if len(l)==3:\n",
    "        if l[0]==l[1]==l[2]:\n",
    "            return \"equilateral\"\n",
    "        elif l[0]==l[1] or l[1]==l[2] or l[2]==l[0]:\n",
    "            return \"Isosceles\"\n",
    "        else:\n",
    "            return \"scalene\"\n",
    "    else:\n",
    "        return \"not a triangle\""
   ]
  },
  {
   "cell_type": "code",
   "execution_count": 272,
   "id": "1fd9a31a",
   "metadata": {},
   "outputs": [
    {
     "data": {
      "text/plain": [
       "'scalene'"
      ]
     },
     "execution_count": 272,
     "metadata": {},
     "output_type": "execute_result"
    }
   ],
   "source": [
    "get_triangle_type([2, 6, 5])"
   ]
  },
  {
   "cell_type": "code",
   "execution_count": 273,
   "id": "fbddbfb4",
   "metadata": {},
   "outputs": [
    {
     "data": {
      "text/plain": [
       "'Isosceles'"
      ]
     },
     "execution_count": 273,
     "metadata": {},
     "output_type": "execute_result"
    }
   ],
   "source": [
    "get_triangle_type([4, 4, 7])"
   ]
  },
  {
   "cell_type": "code",
   "execution_count": 274,
   "id": "ec969ca2",
   "metadata": {},
   "outputs": [
    {
     "data": {
      "text/plain": [
       "'equilateral'"
      ]
     },
     "execution_count": 274,
     "metadata": {},
     "output_type": "execute_result"
    }
   ],
   "source": [
    "get_triangle_type([8, 8, 8])"
   ]
  },
  {
   "cell_type": "code",
   "execution_count": 275,
   "id": "2215c02e",
   "metadata": {},
   "outputs": [
    {
     "data": {
      "text/plain": [
       "'not a triangle'"
      ]
     },
     "execution_count": 275,
     "metadata": {},
     "output_type": "execute_result"
    }
   ],
   "source": [
    "get_triangle_type([3, 5, 5, 2]) "
   ]
  },
  {
   "cell_type": "code",
   "execution_count": 277,
   "id": "b69de537",
   "metadata": {},
   "outputs": [],
   "source": [
    "#46 Write a function that returns True if two rooks can attack each other, and False otherwise.\n",
    "def can_capture(rooks):\n",
    "    if rooks[0][0]==rooks[1][0]:\n",
    "        return True\n",
    "    else:\n",
    "        return False"
   ]
  },
  {
   "cell_type": "code",
   "execution_count": 278,
   "id": "529d0515",
   "metadata": {},
   "outputs": [
    {
     "data": {
      "text/plain": [
       "False"
      ]
     },
     "execution_count": 278,
     "metadata": {},
     "output_type": "execute_result"
    }
   ],
   "source": [
    "can_capture([\"A8\", \"E8\"])"
   ]
  },
  {
   "cell_type": "code",
   "execution_count": 279,
   "id": "532c7599",
   "metadata": {},
   "outputs": [
    {
     "data": {
      "text/plain": [
       "False"
      ]
     },
     "execution_count": 279,
     "metadata": {},
     "output_type": "execute_result"
    }
   ],
   "source": [
    "can_capture([\"A1\", \"B2\"])"
   ]
  },
  {
   "cell_type": "code",
   "execution_count": 280,
   "id": "e4c7ac43",
   "metadata": {},
   "outputs": [
    {
     "data": {
      "text/plain": [
       "True"
      ]
     },
     "execution_count": 280,
     "metadata": {},
     "output_type": "execute_result"
    }
   ],
   "source": [
    "can_capture([\"H4\", \"H3\"])"
   ]
  },
  {
   "cell_type": "code",
   "execution_count": 281,
   "id": "368c936b",
   "metadata": {},
   "outputs": [
    {
     "data": {
      "text/plain": [
       "False"
      ]
     },
     "execution_count": 281,
     "metadata": {},
     "output_type": "execute_result"
    }
   ],
   "source": [
    "can_capture([\"F5\", \"C8\"])"
   ]
  },
  {
   "cell_type": "code",
   "execution_count": 302,
   "id": "d4f83246",
   "metadata": {},
   "outputs": [],
   "source": [
    "#47 Given an integer n. Your task is to find how many digits this integer contains without using str or len methods.\n",
    "def sum_digits(n):\n",
    "    c=0\n",
    "    while n>=1:\n",
    "        c+=1\n",
    "        n=(n/10)\n",
    "    return c            "
   ]
  },
  {
   "cell_type": "code",
   "execution_count": 303,
   "id": "15f40fd4",
   "metadata": {},
   "outputs": [
    {
     "data": {
      "text/plain": [
       "3"
      ]
     },
     "execution_count": 303,
     "metadata": {},
     "output_type": "execute_result"
    }
   ],
   "source": [
    "sum_digits(100)"
   ]
  },
  {
   "cell_type": "code",
   "execution_count": 304,
   "id": "f5f988c7",
   "metadata": {},
   "outputs": [
    {
     "data": {
      "text/plain": [
       "4"
      ]
     },
     "execution_count": 304,
     "metadata": {},
     "output_type": "execute_result"
    }
   ],
   "source": [
    "sum_digits(1000)"
   ]
  },
  {
   "cell_type": "code",
   "execution_count": 305,
   "id": "1fa578e6",
   "metadata": {},
   "outputs": [
    {
     "data": {
      "text/plain": [
       "1"
      ]
     },
     "execution_count": 305,
     "metadata": {},
     "output_type": "execute_result"
    }
   ],
   "source": [
    "sum_digits(1)"
   ]
  },
  {
   "cell_type": "code",
   "execution_count": 306,
   "id": "8875dc86",
   "metadata": {},
   "outputs": [],
   "source": [
    "#48 Convert cartesian coordinates (x, y) to polar coordinates (R, phi) and return the score based on the R value.\n",
    "#R > 10 gives 0 points, 10 >= R > 5 gives 1 point, 5 >= R > 1 gives 5 points, R <= 1 gives 10 points.\n",
    "def darts_scoring(x, y):\n",
    "    r=(x*x+y*y)**0.5\n",
    "    s=0\n",
    "    if r>10:\n",
    "        s=0\n",
    "    elif 10>=r>5:\n",
    "        s=1\n",
    "    elif 5>=r>1:\n",
    "        s=5\n",
    "    elif r<=1:\n",
    "        s=10\n",
    "    return s\n",
    "        "
   ]
  },
  {
   "cell_type": "code",
   "execution_count": 307,
   "id": "58091914",
   "metadata": {},
   "outputs": [
    {
     "data": {
      "text/plain": [
       "10"
      ]
     },
     "execution_count": 307,
     "metadata": {},
     "output_type": "execute_result"
    }
   ],
   "source": [
    "darts_scoring(0, 0)"
   ]
  },
  {
   "cell_type": "code",
   "execution_count": 308,
   "id": "0466ff14",
   "metadata": {},
   "outputs": [
    {
     "data": {
      "text/plain": [
       "5"
      ]
     },
     "execution_count": 308,
     "metadata": {},
     "output_type": "execute_result"
    }
   ],
   "source": [
    "darts_scoring(3, 2)"
   ]
  },
  {
   "cell_type": "code",
   "execution_count": 309,
   "id": "c5487733",
   "metadata": {},
   "outputs": [
    {
     "data": {
      "text/plain": [
       "10"
      ]
     },
     "execution_count": 309,
     "metadata": {},
     "output_type": "execute_result"
    }
   ],
   "source": [
    "darts_scoring(0, -0.8)"
   ]
  },
  {
   "cell_type": "code",
   "execution_count": 362,
   "id": "db57e061",
   "metadata": {},
   "outputs": [],
   "source": [
    "#49 Create a function that takes in a two-dimensional list and returns the number of sub-lists with only \n",
    "#identical elements.\n",
    "def count_identical(lst):\n",
    "    l=0;\n",
    "    if len(lst)==1:\n",
    "        l+=1\n",
    "        return l\n",
    "    else:\n",
    "        for sb in lst:\n",
    "            if len(sb)==1:\n",
    "                l+=1\n",
    "            else:\n",
    "                a=0\n",
    "                for y in sb:\n",
    "                    x=sb[0]\n",
    "                    if y==x:\n",
    "                        a+=1\n",
    "                if a==len(sb):\n",
    "                    l+=1\n",
    "        return l\n"
   ]
  },
  {
   "cell_type": "code",
   "execution_count": 363,
   "id": "a437383e",
   "metadata": {},
   "outputs": [
    {
     "data": {
      "text/plain": [
       "3"
      ]
     },
     "execution_count": 363,
     "metadata": {},
     "output_type": "execute_result"
    }
   ],
   "source": [
    "count_identical([ [5],[\"@\", \"@\", \"@\", \"@\"],[2, 3], [3, 4], [4, 4]])"
   ]
  },
  {
   "cell_type": "code",
   "execution_count": 364,
   "id": "1b58bada",
   "metadata": {},
   "outputs": [],
   "source": [
    "#50 Create a function that takes a number (from 1 to 12) and returns its corresponding month name as a string. \n",
    "#For example, if you're given 3 as input, your function should return \"March\", because March is the 3rd month.\n",
    "def month_name(num):\n",
    "    m={1:\"January\",2:\"February\",3:\"March\",4:\"April\",5:\"May\",6:\"June\",7:\"July\",8:\"August\",9:\"September\",\\\n",
    "          10:\"October\",11:\"November\",12:\"December\"}\n",
    "    for i in range(1,13):\n",
    "        if num==i:\n",
    "            return m[i]"
   ]
  },
  {
   "cell_type": "code",
   "execution_count": 365,
   "id": "90c9102b",
   "metadata": {},
   "outputs": [
    {
     "data": {
      "text/plain": [
       "'March'"
      ]
     },
     "execution_count": 365,
     "metadata": {},
     "output_type": "execute_result"
    }
   ],
   "source": [
    "month_name(3)"
   ]
  },
  {
   "cell_type": "code",
   "execution_count": 366,
   "id": "554de17a",
   "metadata": {},
   "outputs": [
    {
     "data": {
      "text/plain": [
       "'December'"
      ]
     },
     "execution_count": 366,
     "metadata": {},
     "output_type": "execute_result"
    }
   ],
   "source": [
    "month_name(12)"
   ]
  },
  {
   "cell_type": "code",
   "execution_count": 367,
   "id": "575bfb93",
   "metadata": {},
   "outputs": [
    {
     "data": {
      "text/plain": [
       "'June'"
      ]
     },
     "execution_count": 367,
     "metadata": {},
     "output_type": "execute_result"
    }
   ],
   "source": [
    "month_name(6)"
   ]
  },
  {
   "cell_type": "code",
   "execution_count": 375,
   "id": "b6ecf9f3",
   "metadata": {},
   "outputs": [],
   "source": [
    "#51 Create a function that takes an initial word and extracts any words that start with the same letters as the initial word.\n",
    "def dictionary(initial, words):\n",
    "    l=[]\n",
    "    for i in words:\n",
    "        if initial in i:\n",
    "            l.append(i)\n",
    "        else:\n",
    "            continue\n",
    "    return l"
   ]
  },
  {
   "cell_type": "code",
   "execution_count": 372,
   "id": "419cca39",
   "metadata": {},
   "outputs": [
    {
     "data": {
      "text/plain": [
       "['button']"
      ]
     },
     "execution_count": 372,
     "metadata": {},
     "output_type": "execute_result"
    }
   ],
   "source": [
    "dictionary(\"bu\", [\"button\", \"breakfast\", \"border\"])"
   ]
  },
  {
   "cell_type": "code",
   "execution_count": 373,
   "id": "08a322d6",
   "metadata": {},
   "outputs": [
    {
     "data": {
      "text/plain": [
       "['triplet', 'tries', 'trip']"
      ]
     },
     "execution_count": 373,
     "metadata": {},
     "output_type": "execute_result"
    }
   ],
   "source": [
    "dictionary(\"tri\", [\"triplet\", \"tries\", \"trip\", \"piano\", \"tree\"])"
   ]
  },
  {
   "cell_type": "code",
   "execution_count": 376,
   "id": "ad88821d",
   "metadata": {},
   "outputs": [
    {
     "data": {
      "text/plain": [
       "[]"
      ]
     },
     "execution_count": 376,
     "metadata": {},
     "output_type": "execute_result"
    }
   ],
   "source": [
    "dictionary(\"beau\", [\"pastry\", \"delicious\", \"name\", \"boring\"])"
   ]
  },
  {
   "cell_type": "code",
   "execution_count": 377,
   "id": "8726a6c7",
   "metadata": {},
   "outputs": [],
   "source": [
    "#52 Create a function that takes a list of strings and returns the words that are exactly four letters.\n",
    "def is_four_letters(lst):\n",
    "    l=[]\n",
    "    for i in lst:\n",
    "        if len(i)==4:\n",
    "            l.append(i)\n",
    "        else:\n",
    "            continue\n",
    "    return l"
   ]
  },
  {
   "cell_type": "code",
   "execution_count": 378,
   "id": "170cd6f4",
   "metadata": {},
   "outputs": [
    {
     "data": {
      "text/plain": [
       "['Pair']"
      ]
     },
     "execution_count": 378,
     "metadata": {},
     "output_type": "execute_result"
    }
   ],
   "source": [
    "is_four_letters([\"Tomato\", \"Potato\", \"Pair\"])"
   ]
  },
  {
   "cell_type": "code",
   "execution_count": 379,
   "id": "5fc1b8b8",
   "metadata": {},
   "outputs": [
    {
     "data": {
      "text/plain": [
       "['Bear']"
      ]
     },
     "execution_count": 379,
     "metadata": {},
     "output_type": "execute_result"
    }
   ],
   "source": [
    "is_four_letters([\"Kangaroo\", \"Bear\", \"Fox\"])"
   ]
  },
  {
   "cell_type": "code",
   "execution_count": 380,
   "id": "07228611",
   "metadata": {},
   "outputs": [
    {
     "data": {
      "text/plain": [
       "['Ryan', 'Matt']"
      ]
     },
     "execution_count": 380,
     "metadata": {},
     "output_type": "execute_result"
    }
   ],
   "source": [
    "is_four_letters([\"Ryan\", \"Kieran\", \"Jason\", \"Matt\"])"
   ]
  },
  {
   "cell_type": "code",
   "execution_count": 386,
   "id": "fca8a16e",
   "metadata": {},
   "outputs": [],
   "source": [
    "#53 Create a function that takes a year as an argument and returns the corresponding Chinese zodiac.\n",
    "def chinese_zodiac(year):\n",
    "    if year%12==4:\n",
    "        return \"Rat\"\n",
    "    elif year%12==5:\n",
    "        return \"Ox\"\n",
    "    elif year%12==6:\n",
    "        return \"Tiger\"\n",
    "    elif year%12==7:\n",
    "        return \"Rabbit\"\n",
    "    elif year%12==8:\n",
    "        return \"Dragon\"\n",
    "    elif year%12==9:\n",
    "        return \"Snake\"\n",
    "    elif year%12==10:\n",
    "        return \"Horse\"\n",
    "    elif year%12==11:\n",
    "        return \"Goat\"\n",
    "    elif year%12==1:\n",
    "        return \"Rooster\"\n",
    "    elif year%12==2:\n",
    "        return \"Dog\"\n",
    "    elif year%12==3:\n",
    "        return \"Pig\"\n",
    "    else:\n",
    "        return \"Cow\"\n",
    "    "
   ]
  },
  {
   "cell_type": "code",
   "execution_count": 387,
   "id": "f95952b6",
   "metadata": {},
   "outputs": [
    {
     "data": {
      "text/plain": [
       "'Ox'"
      ]
     },
     "execution_count": 387,
     "metadata": {},
     "output_type": "execute_result"
    }
   ],
   "source": [
    "chinese_zodiac(2021)"
   ]
  },
  {
   "cell_type": "code",
   "execution_count": 388,
   "id": "e4dff405",
   "metadata": {},
   "outputs": [
    {
     "data": {
      "text/plain": [
       "'Rat'"
      ]
     },
     "execution_count": 388,
     "metadata": {},
     "output_type": "execute_result"
    }
   ],
   "source": [
    "chinese_zodiac(2020) "
   ]
  },
  {
   "cell_type": "code",
   "execution_count": 389,
   "id": "5ce9e6ea",
   "metadata": {},
   "outputs": [
    {
     "data": {
      "text/plain": [
       "'Rooster'"
      ]
     },
     "execution_count": 389,
     "metadata": {},
     "output_type": "execute_result"
    }
   ],
   "source": [
    "chinese_zodiac(1933)"
   ]
  },
  {
   "cell_type": "code",
   "execution_count": 390,
   "id": "bbbc772b",
   "metadata": {},
   "outputs": [],
   "source": [
    "#54 Two sisters are eating chocolate, whose pieces are represented as subarrays of [l x w].\n",
    "#Write a function that returns True if the total area of chocolate is the same for each sister.\n",
    "def test_fairness(agatha, bertha):\n",
    "    a=0;b=0\n",
    "    for i in agatha:\n",
    "        a+=(i[0]*i[1])\n",
    "    for i in bertha:\n",
    "        b+=(i[0]*i[1])\n",
    "    return a==b"
   ]
  },
  {
   "cell_type": "code",
   "execution_count": 391,
   "id": "f643ee68",
   "metadata": {},
   "outputs": [
    {
     "data": {
      "text/plain": [
       "True"
      ]
     },
     "execution_count": 391,
     "metadata": {},
     "output_type": "execute_result"
    }
   ],
   "source": [
    "test_fairness([[1, 2], [2, 1]], [[2, 2]])"
   ]
  },
  {
   "cell_type": "code",
   "execution_count": 392,
   "id": "b5c75840",
   "metadata": {},
   "outputs": [
    {
     "data": {
      "text/plain": [
       "False"
      ]
     },
     "execution_count": 392,
     "metadata": {},
     "output_type": "execute_result"
    }
   ],
   "source": [
    "test_fairness([[1, 2], [2, 1]], [[2, 2], [4, 4]]) "
   ]
  },
  {
   "cell_type": "code",
   "execution_count": 393,
   "id": "a8dec55e",
   "metadata": {},
   "outputs": [
    {
     "data": {
      "text/plain": [
       "True"
      ]
     },
     "execution_count": 393,
     "metadata": {},
     "output_type": "execute_result"
    }
   ],
   "source": [
    "test_fairness([[2, 2], [2, 2], [2, 2], [2, 2]], [[4, 4]])"
   ]
  },
  {
   "cell_type": "code",
   "execution_count": 394,
   "id": "9123a0e1",
   "metadata": {},
   "outputs": [
    {
     "data": {
      "text/plain": [
       "False"
      ]
     },
     "execution_count": 394,
     "metadata": {},
     "output_type": "execute_result"
    }
   ],
   "source": [
    "test_fairness([[1, 5], [6, 3], [1, 1]], [[7, 1], [2, 2], [1, 1]])"
   ]
  },
  {
   "cell_type": "code",
   "execution_count": 395,
   "id": "ff7f378d",
   "metadata": {},
   "outputs": [],
   "source": [
    "#55 \n",
    "def grade_percentage(user_score, pass_score):\n",
    "    if user_score>=pass_score:\n",
    "        return \"Passed\"\n",
    "    else:\n",
    "        return \"Failed\""
   ]
  },
  {
   "cell_type": "code",
   "execution_count": 396,
   "id": "93aa1d23",
   "metadata": {},
   "outputs": [
    {
     "data": {
      "text/plain": [
       "'Passed'"
      ]
     },
     "execution_count": 396,
     "metadata": {},
     "output_type": "execute_result"
    }
   ],
   "source": [
    "grade_percentage(\"85%\", \"85%\")"
   ]
  },
  {
   "cell_type": "code",
   "execution_count": 397,
   "id": "7c6f2dfb",
   "metadata": {},
   "outputs": [
    {
     "data": {
      "text/plain": [
       "'Passed'"
      ]
     },
     "execution_count": 397,
     "metadata": {},
     "output_type": "execute_result"
    }
   ],
   "source": [
    "grade_percentage(\"99%\", \"85%\")"
   ]
  },
  {
   "cell_type": "code",
   "execution_count": 398,
   "id": "45200015",
   "metadata": {},
   "outputs": [
    {
     "data": {
      "text/plain": [
       "'Failed'"
      ]
     },
     "execution_count": 398,
     "metadata": {},
     "output_type": "execute_result"
    }
   ],
   "source": [
    "grade_percentage(\"65%\", \"90%\")"
   ]
  },
  {
   "cell_type": "code",
   "execution_count": null,
   "id": "e60d75bb",
   "metadata": {},
   "outputs": [],
   "source": []
  },
  {
   "cell_type": "code",
   "execution_count": null,
   "id": "f45357b8",
   "metadata": {},
   "outputs": [],
   "source": []
  }
 ],
 "metadata": {
  "kernelspec": {
   "display_name": "Python 3 (ipykernel)",
   "language": "python",
   "name": "python3"
  },
  "language_info": {
   "codemirror_mode": {
    "name": "ipython",
    "version": 3
   },
   "file_extension": ".py",
   "mimetype": "text/x-python",
   "name": "python",
   "nbconvert_exporter": "python",
   "pygments_lexer": "ipython3",
   "version": "3.10.9"
  }
 },
 "nbformat": 4,
 "nbformat_minor": 5
}
