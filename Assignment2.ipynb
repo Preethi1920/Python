{
 "cells": [
  {
   "cell_type": "code",
   "execution_count": 7,
   "id": "5a9af562",
   "metadata": {},
   "outputs": [
    {
     "name": "stdout",
     "output_type": "stream",
     "text": [
      "Enter num1 :5\n",
      "Enter num2 :2\n",
      "Product = 10.0\n",
      "Quotient = 2.5\n"
     ]
    }
   ],
   "source": [
    "#1.Accept 2 numbers, mul,div\n",
    "x = float(input(\"Enter num1 :\"))\n",
    "y = float(input(\"Enter num2 :\"))\n",
    "mul = x*y\n",
    "div = x/y\n",
    "print(f\"Product = {mul}\\nQuotient = {div}\")"
   ]
  },
  {
   "cell_type": "code",
   "execution_count": 10,
   "id": "f3f6c7de",
   "metadata": {},
   "outputs": [
    {
     "name": "stdout",
     "output_type": "stream",
     "text": [
      "Enter string : abcdefgh\n",
      " aceg\n"
     ]
    }
   ],
   "source": [
    "#2.Print chars from even index of a string\n",
    "x = input(\"Enter string : \")\n",
    "a = \" \"\n",
    "for y in range(0,len(x)):\n",
    "    if y%2==0:\n",
    "        a+=x[y]\n",
    "    else:\n",
    "        a+=\"\"\n",
    "print(a)\n"
   ]
  },
  {
   "cell_type": "code",
   "execution_count": 12,
   "id": "d5ee6cc8",
   "metadata": {},
   "outputs": [
    {
     "name": "stdout",
     "output_type": "stream",
     "text": [
      "Enter string : helloworld\n",
      " elwrd\n"
     ]
    }
   ],
   "source": [
    "#3 Print chars from odd index of a string\n",
    "x = input(\"Enter string : \")\n",
    "a = \" \"\n",
    "for y in range(0,len(x)):\n",
    "    if y%2==0:\n",
    "        a+=\"\"\n",
    "    else:\n",
    "        a+=x[y]\n",
    "print(a)"
   ]
  },
  {
   "cell_type": "code",
   "execution_count": 13,
   "id": "973b6934",
   "metadata": {},
   "outputs": [
    {
     "name": "stdout",
     "output_type": "stream",
     "text": [
      "enter num1 :5\n",
      "enter num2 :2\n",
      "Diff = 3\n"
     ]
    }
   ],
   "source": [
    "#4 sum if two numbers are even or print diff\n",
    "x = int(input(\"enter num1 :\"))\n",
    "y = int(input(\"enter num2 :\"))\n",
    "if x%2==0 and y%2==0:\n",
    "    print(\"sum =\",x+y)\n",
    "else:\n",
    "    print(\"Diff =\",x-y)"
   ]
  },
  {
   "cell_type": "code",
   "execution_count": 6,
   "id": "1bb392b1",
   "metadata": {},
   "outputs": [
    {
     "name": "stdout",
     "output_type": "stream",
     "text": [
      "Enter a string :HGJDFDHGjkgjdfg\n",
      " HgJdFdHgJkGjDfG\n"
     ]
    }
   ],
   "source": [
    "#5 all even indexed to upper, odd indexed to lower\n",
    "x = input(\"Enter a string :\")\n",
    "y = ' '\n",
    "for i in range(0,len(x)):\n",
    "    if i%2==0:\n",
    "        y+=x[i].upper()\n",
    "    else:\n",
    "        y+=x[i].lower()\n",
    "print(y)\n",
    "    \n",
    "        "
   ]
  },
  {
   "cell_type": "code",
   "execution_count": 8,
   "id": "2693f938",
   "metadata": {},
   "outputs": [
    {
     "name": "stdout",
     "output_type": "stream",
     "text": [
      "Enter a number : 55\n",
      "True\n"
     ]
    }
   ],
   "source": [
    "#6 Div by 5\n",
    "x = int(input(\"Enter a number : \"))\n",
    "if x%5==0:\n",
    "    print(\"True\")\n",
    "else:\n",
    "    print(\"False\")"
   ]
  },
  {
   "cell_type": "code",
   "execution_count": 14,
   "id": "f97987db",
   "metadata": {},
   "outputs": [
    {
     "name": "stdout",
     "output_type": "stream",
     "text": [
      "Enter first number :100\n",
      "Enter second number :500\n",
      "product is : 50000\n"
     ]
    }
   ],
   "source": [
    "#7 product if >1000 else sum\n",
    "x = int(input(\"Enter first number :\"))\n",
    "y = int(input(\"Enter second number :\"))\n",
    "\n",
    "if x*y>1000:\n",
    "    print(\"product is :\",x*y)\n",
    "else:\n",
    "    print(\"Sum is : \",x+y)\n"
   ]
  },
  {
   "cell_type": "code",
   "execution_count": 16,
   "id": "e36b1fd6",
   "metadata": {},
   "outputs": [
    {
     "name": "stdout",
     "output_type": "stream",
     "text": [
      "Enter first string :hello\n",
      "Enter second string :world\n",
      "hwlrod\n"
     ]
    }
   ],
   "source": [
    "#8 \n",
    "x = input(\"Enter first string :\")\n",
    "y = input(\"Enter second string :\")\n",
    "a = x[0]+y[0]+x[len(x)//2]+y[len(y)//2]+x[-1]+y[-1]\n",
    "print(a)\n"
   ]
  },
  {
   "cell_type": "code",
   "execution_count": 8,
   "id": "a73be294",
   "metadata": {},
   "outputs": [
    {
     "name": "stdout",
     "output_type": "stream",
     "text": [
      "Enter 3 names with spaces :Preethi Emma Kavya\n",
      "Name1 : Preethi \n",
      "Name2 : Emma \n",
      "Name3 : Kavya\n"
     ]
    }
   ],
   "source": [
    "#9\n",
    "x = input(\"Enter 3 names with spaces :\")\n",
    "y =x.split()\n",
    "print(\"Name1 :\",y[0],\"\\nName2 :\",y[1],\"\\nName3 :\",y[2])\n"
   ]
  },
  {
   "cell_type": "code",
   "execution_count": 13,
   "id": "222dae57",
   "metadata": {},
   "outputs": [
    {
     "name": "stdout",
     "output_type": "stream",
     "text": [
      "Enter a string :hihhhh\n",
      "hi@@@@\n"
     ]
    }
   ],
   "source": [
    "#10\n",
    "x = input(\"Enter a string :\")\n",
    "y = x[0]\n",
    "z= x[0]\n",
    "for i  in range(1, len(x)):\n",
    "    if x[i]==x[0]:\n",
    "        \n",
    "        z+=\"@\"\n",
    "    else:\n",
    "        z+=x[i]\n",
    "print(z)"
   ]
  },
  {
   "cell_type": "code",
   "execution_count": 42,
   "id": "6d1e39c4",
   "metadata": {},
   "outputs": [
    {
     "name": "stdout",
     "output_type": "stream",
     "text": [
      "Enter a string :playing\n",
      "playingly\n"
     ]
    }
   ],
   "source": [
    "#11\n",
    "x = input(\"Enter a string :\")\n",
    "if len(x)>=3:\n",
    "    if x[-3:]==\"ing\":\n",
    "         x+=x[-3:].replace(\"ing\",\"ly\")\n",
    "    else:\n",
    "         x+=\"ing\"\n",
    "    print(x)\n",
    "else:\n",
    "    print(x)\n",
    "    "
   ]
  },
  {
   "cell_type": "code",
   "execution_count": 28,
   "id": "ddea18b9",
   "metadata": {},
   "outputs": [
    {
     "name": "stdout",
     "output_type": "stream",
     "text": [
      "Enter num1 :7\n",
      "Enter num2 :6\n",
      "False\n"
     ]
    }
   ],
   "source": [
    "#12\n",
    "x = int(input(\"Enter num1 :\"))\n",
    "y = int(input(\"Enter num2 :\"))\n",
    "if x==10 or y==10 or x+y==10:\n",
    "    print(\"True\")\n",
    "else:\n",
    "    print(\"False\")"
   ]
  },
  {
   "cell_type": "code",
   "execution_count": 30,
   "id": "2bd1c8bb",
   "metadata": {},
   "outputs": [
    {
     "name": "stdout",
     "output_type": "stream",
     "text": [
      "Enter num1 :6\n",
      "Enter num2 :2\n",
      "Enter num3 :88\n",
      "False\n"
     ]
    }
   ],
   "source": [
    "#13\n",
    "x = int(input(\"Enter num1 :\"))\n",
    "y = int(input(\"Enter num2 :\"))\n",
    "z = int(input(\"Enter num3 :\"))\n",
    "if x*y>z:\n",
    "    print(\"True\")\n",
    "else:\n",
    "    print(\"False\")\n",
    "    "
   ]
  },
  {
   "cell_type": "code",
   "execution_count": 34,
   "id": "af8fc13f",
   "metadata": {},
   "outputs": [
    {
     "name": "stdout",
     "output_type": "stream",
     "text": [
      "Enter string1 :hello\n",
      "Enter string2 :ying\n",
      "False\n"
     ]
    }
   ],
   "source": [
    "#14\n",
    "x = input(\"Enter string1 :\")\n",
    "y = input(\"Enter string2 :\")\n",
    "if len(x)==len(y):\n",
    "    print(True)\n",
    "else: \n",
    "    print(False)"
   ]
  },
  {
   "cell_type": "code",
   "execution_count": 39,
   "id": "b6f16f95",
   "metadata": {},
   "outputs": [
    {
     "name": "stdout",
     "output_type": "stream",
     "text": [
      "Enter a string:hello\n",
      "helhelhel\n"
     ]
    }
   ],
   "source": [
    "#15\n",
    "x = input(\"Enter a string:\")\n",
    "y = \"\"\n",
    "if len(x)>=3:\n",
    "    y+=x[0:3]\n",
    "    print(y*3)\n",
    "else:\n",
    "    print(x*3)"
   ]
  },
  {
   "cell_type": "code",
   "execution_count": 41,
   "id": "ab495262",
   "metadata": {},
   "outputs": [
    {
     "name": "stdout",
     "output_type": "stream",
     "text": [
      "Enter a string:pings\n",
      "It is plural.\n"
     ]
    }
   ],
   "source": [
    "#16\n",
    "x = input(\"Enter a string:\")\n",
    "if x[-1]==\"s\":\n",
    "    print(\"It is plural.\")\n",
    "else: \n",
    "    print(\"Not plural\")"
   ]
  },
  {
   "cell_type": "code",
   "execution_count": 47,
   "id": "f05194da",
   "metadata": {},
   "outputs": [],
   "source": [
    "#17 bartender\n",
    "def f(age,break_check):\n",
    "    if age>=18 and break_check==False:\n",
    "        print(\"Serve!\")\n",
    "    else:\n",
    "        return \"Dont serve! Under age.\"\n"
   ]
  },
  {
   "cell_type": "code",
   "execution_count": 48,
   "id": "c315f19a",
   "metadata": {},
   "outputs": [
    {
     "data": {
      "text/plain": [
       "'Dont serve! Under age.'"
      ]
     },
     "execution_count": 48,
     "metadata": {},
     "output_type": "execute_result"
    }
   ],
   "source": [
    "f(18,True)"
   ]
  },
  {
   "cell_type": "code",
   "execution_count": 13,
   "id": "f2ab1c0e",
   "metadata": {},
   "outputs": [
    {
     "name": "stdout",
     "output_type": "stream",
     "text": [
      "Give he name: Tarun\n",
      "brother\n"
     ]
    }
   ],
   "source": [
    "#18\n",
    "a=input(\"Give the name: \")\n",
    "d={\"Shiva\":\"father\",\"Latha\":\"mother\",\"Tarun\":\"brother\",\"Kavitha\":\"sister\"}\n",
    "\n",
    "#print(d.get(\"Shiva\"))\n",
    "for x in d:\n",
    "    if x==a:\n",
    "        print(d[x])\n",
    "    else:\n",
    "        continue\n",
    "    "
   ]
  },
  {
   "cell_type": "code",
   "execution_count": 20,
   "id": "c3f5d1bf",
   "metadata": {},
   "outputs": [
    {
     "name": "stdout",
     "output_type": "stream",
     "text": [
      "Enter a string: helloindia\n",
      " eoiia hllnd\n"
     ]
    }
   ],
   "source": [
    "#19\n",
    "x = input(\"Enter a string: \")\n",
    "y=\" \"\n",
    "z=\" \"\n",
    "for i in range(0,len(x)):\n",
    "    if x[i]==\"a\" or x[i]=='A' or x[i]=='e' or x[i]==\"E\" or x[i]==\"i\" or x[i]=='I' or x[i]==\"o\" or x[i]==\"O\" or x[i]==\"u\" or x[i]==\"U\":\n",
    "        y+=x[i]\n",
    "    else:\n",
    "        z+=x[i]\n",
    "print(y+z)"
   ]
  }
 ],
 "metadata": {
  "kernelspec": {
   "display_name": "Python 3 (ipykernel)",
   "language": "python",
   "name": "python3"
  },
  "language_info": {
   "codemirror_mode": {
    "name": "ipython",
    "version": 3
   },
   "file_extension": ".py",
   "mimetype": "text/x-python",
   "name": "python",
   "nbconvert_exporter": "python",
   "pygments_lexer": "ipython3",
   "version": "3.10.9"
  }
 },
 "nbformat": 4,
 "nbformat_minor": 5
}
