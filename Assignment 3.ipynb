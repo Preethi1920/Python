{
 "cells": [
  {
   "cell_type": "code",
   "execution_count": 2,
   "id": "0b3aa304",
   "metadata": {},
   "outputs": [
    {
     "name": "stdout",
     "output_type": "stream",
     "text": [
      "1\n",
      "2\n",
      "3\n",
      "4\n",
      "5\n",
      "6\n"
     ]
    }
   ],
   "source": [
    "#1Write a Python program that prints all the numbers from 0 to 6 except 3 and 6\n",
    "for i in range(1,7):\n",
    "    if i!=3 or i!=6:\n",
    "        print(i)\n"
   ]
  },
  {
   "cell_type": "code",
   "execution_count": 5,
   "id": "ce846900",
   "metadata": {},
   "outputs": [
    {
     "name": "stdout",
     "output_type": "stream",
     "text": [
      "Enter a number: 5\n",
      "15\n"
     ]
    }
   ],
   "source": [
    "#2 Write a program to accept a number from a user and calculate the sum of all numbers from 1 to a given number\n",
    "x = int(input(\"Enter a number: \"))\n",
    "y=0\n",
    "for i in range(1,x+1):\n",
    "    y+=i\n",
    "print(y)"
   ]
  },
  {
   "cell_type": "code",
   "execution_count": 7,
   "id": "621df639",
   "metadata": {},
   "outputs": [
    {
     "name": "stdout",
     "output_type": "stream",
     "text": [
      "Enter the num you want the table of :5\n",
      "Enter the num until you want the table :10\n",
      "5x1=5\n",
      "5x2=10\n",
      "5x3=15\n",
      "5x4=20\n",
      "5x5=25\n",
      "5x6=30\n",
      "5x7=35\n",
      "5x8=40\n",
      "5x9=45\n",
      "5x10=50\n"
     ]
    }
   ],
   "source": [
    "#3 multiplication table\n",
    "x= int(input(\"Enter the num you want the table of :\"))\n",
    "y= int(input(\"Enter the num until you want the table :\"))\n",
    "for y in range(1,y+1):\n",
    "    print(f\"{x}x{y}={x*y}\")"
   ]
  },
  {
   "cell_type": "code",
   "execution_count": 10,
   "id": "9b444598",
   "metadata": {},
   "outputs": [
    {
     "name": "stdout",
     "output_type": "stream",
     "text": [
      "Enter a number :34562907\n",
      "no of digits:  8\n"
     ]
    }
   ],
   "source": [
    "#4 no of digits\n",
    "x = int(input(\"Enter a number :\"))\n",
    "y = str(x)\n",
    "for i in range(1,len(y)):\n",
    "    i+=1\n",
    "print(\"no of digits: \",i)"
   ]
  },
  {
   "cell_type": "code",
   "execution_count": 19,
   "id": "74506048",
   "metadata": {},
   "outputs": [
    {
     "name": "stdout",
     "output_type": "stream",
     "text": [
      "Enter a number guessed between 1 to 10 :4\n",
      "wrong guess!\n",
      "Enter a number guessed between 1 to 10 :0\n",
      "wrong guess!\n",
      "Enter a number guessed between 1 to 10 :2\n",
      "wrong guess!\n",
      "Enter a number guessed between 1 to 10 :5\n",
      "wrong guess!\n",
      "Enter a number guessed between 1 to 10 :3\n",
      "wrong guess!\n",
      "Enter a number guessed between 1 to 10 :8\n",
      "wrong guess!\n",
      "Enter a number guessed between 1 to 10 :1\n",
      "wrong guess!\n",
      "Enter a number guessed between 1 to 10 :6\n",
      "wrong guess!\n",
      "Enter a number guessed between 1 to 10 :7\n",
      "you got it !\n"
     ]
    }
   ],
   "source": [
    "#5 Write a Python program to guess a number between 1 to\n",
    "#Example:\n",
    "#User is prompted to enter a guess. If the user guesses wrong then the prompt appears again until the guess\n",
    "#is correct, on successful guess, user will get a \"Well guessed!\" message, and the program will exit.\n",
    "import random\n",
    "\n",
    "y = random.randint(1,10)\n",
    "while x!=y:\n",
    "    x = int(input(\"Enter a number guessed between 1 to 10 :\"))\n",
    "    if x==y:\n",
    "        print(\"you got it !\")\n",
    "        break\n",
    "    else:\n",
    "        print(\"wrong guess!\")\n",
    "        continue  "
   ]
  },
  {
   "cell_type": "code",
   "execution_count": 24,
   "id": "862e43e4",
   "metadata": {},
   "outputs": [
    {
     "name": "stdout",
     "output_type": "stream",
     "text": [
      "1\n",
      "2\n",
      "Fizz\n",
      "4\n",
      "Buzz\n",
      "Fizz\n",
      "7\n",
      "8\n",
      "Fizz\n",
      "Buzz\n",
      "11\n",
      "Fizz\n",
      "13\n",
      "14\n",
      "FizzBuzz\n",
      "16\n",
      "17\n",
      "Fizz\n",
      "19\n",
      "Buzz\n",
      "Fizz\n",
      "22\n",
      "23\n",
      "Fizz\n",
      "Buzz\n",
      "26\n",
      "Fizz\n",
      "28\n",
      "29\n",
      "FizzBuzz\n",
      "31\n",
      "32\n",
      "Fizz\n",
      "34\n",
      "Buzz\n",
      "Fizz\n",
      "37\n",
      "38\n",
      "Fizz\n",
      "Buzz\n",
      "41\n",
      "Fizz\n",
      "43\n",
      "44\n",
      "FizzBuzz\n",
      "46\n",
      "47\n",
      "Fizz\n",
      "49\n",
      "Buzz\n",
      "Fizz\n",
      "52\n",
      "53\n",
      "Fizz\n",
      "Buzz\n",
      "56\n",
      "Fizz\n",
      "58\n",
      "59\n",
      "FizzBuzz\n"
     ]
    }
   ],
   "source": [
    "#6 Write a Python program which iterates the integers from 1 to 60.\n",
    "#For multiples of three print \"Fizz\" instead of the number and for the multiples of five print \"Buzz\".\n",
    "#For numbers which are multiples of both three and five print \"FizzBuzz\".\n",
    "for x in range(1,61):\n",
    "    if x%3==0 and x%5!=0:\n",
    "        print(\"Fizz\")\n",
    "    elif x%5==0 and x%3!=0:\n",
    "        print(\"Buzz\")\n",
    "    elif x%5==0 and x%3==0:\n",
    "        print(\"FizzBuzz\")\n",
    "    else:\n",
    "        print(x)"
   ]
  },
  {
   "cell_type": "code",
   "execution_count": 27,
   "id": "1f384d59",
   "metadata": {},
   "outputs": [
    {
     "name": "stdout",
     "output_type": "stream",
     "text": [
      "Enter an alphanumeric string :Python 3.2\n",
      "Letters:  6 Digits:  2\n"
     ]
    }
   ],
   "source": [
    "#7 Write a Python program that accepts a string and calculate the number of digits and letters\n",
    "#Example: Input\n",
    "#Python 3.2\n",
    "#Output\n",
    "#Letters 6 Digits 2\n",
    "x =input(\"Enter an alphanumeric string :\")\n",
    "a=0\n",
    "b=0\n",
    "for i in range(0,len(x)):\n",
    "    if x[i].isalpha():\n",
    "        a+=1\n",
    "    elif x[i].isdigit():\n",
    "        b+=1\n",
    "    else:\n",
    "        continue\n",
    "        \n",
    "print(\"Letters: \",a,\"Digits: \",b)\n",
    "    "
   ]
  },
  {
   "cell_type": "code",
   "execution_count": 6,
   "id": "9406bec3",
   "metadata": {},
   "outputs": [
    {
     "name": "stdout",
     "output_type": "stream",
     "text": [
      "Enter a password: hello@123\n",
      "Invalid password!\n"
     ]
    }
   ],
   "source": [
    "#8) Write a Python program to check the validity of password input by users.\n",
    "#Validation:\n",
    "#At least 1 letter between [a-z] and 1 letter between [A-Z].\n",
    "#At least 1 number between [0-9]. At least 1 character from [$#@].\n",
    "#Minimum length 6 characters. Maximum length 16 characters.\n",
    "\n",
    "x = input(\"Enter a password: \")\n",
    "l,u,s,n=0,0,0,0\n",
    "if 6<len(x)<16:\n",
    "        \n",
    "    for i in range(0,len(x)):\n",
    "        if x[i].islower():\n",
    "            l+=1\n",
    "        elif x[i].isupper():\n",
    "            u+=1\n",
    "        elif x[i].isdigit():\n",
    "            n+=1\n",
    "        elif x[i]==\"@\" or i==\"#\" or i==\"$\":\n",
    "            s+=1\n",
    "        else: \n",
    "            break\n",
    "else:\n",
    "    print(\"Weak password!\")\n",
    "    \n",
    "if l>0 and u>0 and s>0 and n>0:\n",
    "    print(\"Valid Password!\")\n",
    "else:\n",
    "    print(\"Invalid password!\")"
   ]
  },
  {
   "cell_type": "code",
   "execution_count": 38,
   "id": "c3611b1c",
   "metadata": {},
   "outputs": [
    {
     "name": "stdout",
     "output_type": "stream",
     "text": [
      "Enter a word to reverse: hello\n",
      " olleh\n"
     ]
    }
   ],
   "source": [
    "#9 Reverse a word\n",
    "x= input(\"Enter a word to reverse: \")\n",
    "r=\" \"\n",
    "a=1\n",
    "while a<len(x)+1\n",
    "    r+=x[-a]\n",
    "    a+=1  \n",
    "print(r)\n",
    "    \n",
    "    "
   ]
  },
  {
   "cell_type": "code",
   "execution_count": 3,
   "id": "8ba644a2",
   "metadata": {},
   "outputs": [
    {
     "name": "stdout",
     "output_type": "stream",
     "text": [
      "Enter the number: 1\n",
      "Enter the number: 2\n",
      "Enter the number: 3\n",
      "Enter the number: 4\n",
      "Enter the number: 5\n",
      "Enter the number: 6\n",
      "Enter the number: 7\n",
      "Enter the number: 8\n",
      "Enter the number: 9\n",
      "Enter the number: 10\n",
      "Average is  5.5\n"
     ]
    }
   ],
   "source": [
    "### 10 Average of 10 input numbers \n",
    "a=1\n",
    "x=0\n",
    "while a<11:\n",
    "    y= int(input(\"Enter the number: \"))\n",
    "    x+=y\n",
    "    a+=1\n",
    "print(\"Average is \" , str(x/10))"
   ]
  },
  {
   "cell_type": "code",
   "execution_count": 5,
   "id": "014dc033",
   "metadata": {},
   "outputs": [
    {
     "name": "stdout",
     "output_type": "stream",
     "text": [
      "Enter a number  : 2\n",
      "Press 'q' to quit : y\n",
      "Enter a number  : 3\n",
      "Press 'q' to quit : e\n",
      "Enter a number  : 4\n",
      "Press 'q' to quit : q\n",
      "Average 3.0 \n",
      "Product:  24\n"
     ]
    }
   ],
   "source": [
    "#11) Write a program which takes integer inputs from user until he/she presses “q” \n",
    "#(Ask to press q to quit after every integer input). Print average and product of all numbers.\n",
    "s=0\n",
    "p=1\n",
    "n=0\n",
    "a=0\n",
    "while not(a==\"q\" or a==\"Q\"):\n",
    "    n+=1\n",
    "    i= int(input(\"Enter a number  : \"))\n",
    "    s+=i\n",
    "    p*=i\n",
    "    a=input(\"Press 'q' to quit : \")\n",
    "print(\"Average\" , s/n,\"\\nProduct: \",p)\n",
    "    \n"
   ]
  },
  {
   "cell_type": "code",
   "execution_count": 9,
   "id": "d1d7fe5f",
   "metadata": {},
   "outputs": [
    {
     "name": "stdout",
     "output_type": "stream",
     "text": [
      "Enter a string: huiu@189798\n",
      " huiu\n"
     ]
    }
   ],
   "source": [
    "#12) Write a Python program which will remove all digits or any other characters from the string except alphabets\n",
    "#Example: Input:\n",
    "#“asd12.asd22”\n",
    "#Output: 'asdasd'\n",
    "x= input(\"Enter a string: \")\n",
    "l= \" \"\n",
    "for y in range(0,len(x)):\n",
    "    if x[y].isalpha():\n",
    "        l+=x[y]\n",
    "    else:\n",
    "        continue\n",
    "print(l)"
   ]
  },
  {
   "cell_type": "code",
   "execution_count": 11,
   "id": "f6a8d57e",
   "metadata": {},
   "outputs": [
    {
     "name": "stdout",
     "output_type": "stream",
     "text": [
      "Sum is  30\n"
     ]
    }
   ],
   "source": [
    "#13)  Write a python program to find the sum of all even numbers from 0 to 10.\n",
    "sum=0 \n",
    "for i in range(0,11):\n",
    "    if i%2==0:\n",
    "        sum+=i\n",
    "    else:\n",
    "        continue\n",
    "print(\"Sum is \" ,sum)\n",
    "        "
   ]
  },
  {
   "cell_type": "code",
   "execution_count": 16,
   "id": "0ba9a22a",
   "metadata": {},
   "outputs": [
    {
     "name": "stdout",
     "output_type": "stream",
     "text": [
      "Enter a number : 5\n",
      "4\n",
      "3\n",
      "2\n",
      "1\n",
      "0\n"
     ]
    }
   ],
   "source": [
    "#14) Write a python program which will accept a digit and print All the numbers before it till 0\n",
    "#Example: Input: 5\n",
    "#Output:\n",
    "#4 \n",
    "#3 \n",
    "#2 \n",
    "#1 \n",
    "#0\n",
    "\n",
    "x = int(input(\"Enter a number : \"))\n",
    "for i in range(x-1,-1,-1):\n",
    "    print(i)\n",
    "    "
   ]
  },
  {
   "cell_type": "code",
   "execution_count": null,
   "id": "cd323487",
   "metadata": {},
   "outputs": [],
   "source": []
  }
 ],
 "metadata": {
  "kernelspec": {
   "display_name": "Python 3 (ipykernel)",
   "language": "python",
   "name": "python3"
  },
  "language_info": {
   "codemirror_mode": {
    "name": "ipython",
    "version": 3
   },
   "file_extension": ".py",
   "mimetype": "text/x-python",
   "name": "python",
   "nbconvert_exporter": "python",
   "pygments_lexer": "ipython3",
   "version": "3.10.9"
  }
 },
 "nbformat": 4,
 "nbformat_minor": 5
}
