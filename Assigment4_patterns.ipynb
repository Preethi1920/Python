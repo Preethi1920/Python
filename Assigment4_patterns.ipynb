{
 "cells": [
  {
   "cell_type": "code",
   "execution_count": 9,
   "id": "8e4bc1f7",
   "metadata": {},
   "outputs": [
    {
     "name": "stdout",
     "output_type": "stream",
     "text": [
      "1 \n",
      "1 1 \n"
     ]
    }
   ],
   "source": [
    "for x in range(1,3):\n",
    "    for z in range(x):\n",
    "        print(1,end=\" \")\n",
    "    print()               #so it goes to new line for new row\n",
    "#outer loop for rows\n",
    "#inner loop for colunms"
   ]
  },
  {
   "cell_type": "code",
   "execution_count": 10,
   "id": "f57ded46",
   "metadata": {},
   "outputs": [
    {
     "name": "stdout",
     "output_type": "stream",
     "text": [
      "1 \n",
      "2 2 \n",
      "3 3 3 \n",
      "4 4 4 4 \n",
      "5 5 5 5 5 \n"
     ]
    }
   ],
   "source": [
    "#a\n",
    "for x in range(1,6):\n",
    "    for y in range(x):\n",
    "        print(x,end=\" \")\n",
    "    print()\n",
    "    "
   ]
  },
  {
   "cell_type": "code",
   "execution_count": 26,
   "id": "776c0902",
   "metadata": {},
   "outputs": [
    {
     "name": "stdout",
     "output_type": "stream",
     "text": [
      "1 \n",
      "1 2 \n",
      "1 2 3 \n",
      "1 2 3 4 \n",
      "1 2 3 4 5 \n"
     ]
    }
   ],
   "source": [
    "#b\n",
    "for x in range(1,6):\n",
    "    for y in range(1,x+1):\n",
    "        print(y,end=\" \")\n",
    "    print()"
   ]
  },
  {
   "cell_type": "code",
   "execution_count": 33,
   "id": "f93768ba",
   "metadata": {},
   "outputs": [
    {
     "name": "stdout",
     "output_type": "stream",
     "text": [
      "1 1 1 1 1 \n",
      "2 2 2 2 \n",
      "3 3 3 \n",
      "4 4 \n",
      "5 \n"
     ]
    }
   ],
   "source": [
    "#c\n",
    "a=1\n",
    "for x in range(5,0,-1):\n",
    "    for y in range(x,0,-1):\n",
    "        print(a,end=\" \")\n",
    "    a=a+1\n",
    "    print()\n",
    "   \n",
    "        "
   ]
  },
  {
   "cell_type": "code",
   "execution_count": 34,
   "id": "7c902187",
   "metadata": {},
   "outputs": [
    {
     "name": "stdout",
     "output_type": "stream",
     "text": [
      "5 5 5 5 5 \n",
      "5 5 5 5 \n",
      "5 5 5 \n",
      "5 5 \n",
      "5 \n"
     ]
    }
   ],
   "source": [
    "#d\n",
    "a=5\n",
    "for x in range(5,0,-1):\n",
    "    for y in range(x,0,-1):\n",
    "        print(a, end=\" \")\n",
    "    print()"
   ]
  },
  {
   "cell_type": "code",
   "execution_count": 48,
   "id": "97ad7442",
   "metadata": {},
   "outputs": [
    {
     "name": "stdout",
     "output_type": "stream",
     "text": [
      "0 1 2 3 4 5 \n",
      "0 1 2 3 4 \n",
      "0 1 2 3 \n",
      "0 1 2 \n",
      "0 1 \n"
     ]
    }
   ],
   "source": [
    "#e\n",
    "for x in range(5,0,-1):\n",
    "    for y in range(0,x+1):\n",
    "        print(y,end= \" \")\n",
    "        \n",
    "    print()"
   ]
  },
  {
   "cell_type": "code",
   "execution_count": 45,
   "id": "e8530ce6",
   "metadata": {},
   "outputs": [
    {
     "name": "stdout",
     "output_type": "stream",
     "text": [
      "1 \n",
      "3 3 \n",
      "5 5 5 \n",
      "7 7 7 7 \n",
      "9 9 9 9 9 \n"
     ]
    }
   ],
   "source": [
    "#f\n",
    "for x in range(1,10,2):\n",
    "    for y in range(1,x+1,2):\n",
    "        print(x,end=\" \")\n",
    "        \n",
    "    print()"
   ]
  },
  {
   "cell_type": "code",
   "execution_count": 46,
   "id": "3c6cfe97",
   "metadata": {},
   "outputs": [
    {
     "name": "stdout",
     "output_type": "stream",
     "text": [
      "5 5 5 5 5 \n",
      "4 4 4 4 \n",
      "3 3 3 \n",
      "2 2 \n",
      "1 \n"
     ]
    }
   ],
   "source": [
    "#g\n",
    "for x in range(5,0,-1):\n",
    "    for y in range(x,0,-1):\n",
    "        print(x,end=\" \")\n",
    "    print()"
   ]
  },
  {
   "cell_type": "code",
   "execution_count": 50,
   "id": "abad6be2",
   "metadata": {},
   "outputs": [
    {
     "name": "stdout",
     "output_type": "stream",
     "text": [
      "1 \n",
      "2 1 \n",
      "3 2 1 \n",
      "4 3 2 1 \n",
      "5 4 3 2 1 \n"
     ]
    }
   ],
   "source": [
    "#h\n",
    "for x in range(1,6):\n",
    "    for y in range(x,0,-1):\n",
    "        print(x,end = \" \")\n",
    "        x-=1\n",
    "    print()\n",
    "        "
   ]
  },
  {
   "cell_type": "code",
   "execution_count": 51,
   "id": "72cb494e",
   "metadata": {},
   "outputs": [
    {
     "name": "stdout",
     "output_type": "stream",
     "text": [
      "5 4 3 2 1 \n",
      "4 3 2 1 \n",
      "3 2 1 \n",
      "2 1 \n",
      "1 \n"
     ]
    }
   ],
   "source": [
    "#i\n",
    "for x in range(5,0,-1):\n",
    "    for y in range(x,0,-1):\n",
    "        print(x,end = \" \")\n",
    "        x-=1\n",
    "    print()"
   ]
  },
  {
   "cell_type": "code",
   "execution_count": null,
   "id": "49f1315b",
   "metadata": {},
   "outputs": [],
   "source": [
    "#j\n",
    "\n",
    "for x in range()"
   ]
  },
  {
   "cell_type": "code",
   "execution_count": 12,
   "id": "f3ce9507",
   "metadata": {},
   "outputs": [
    {
     "name": "stdout",
     "output_type": "stream",
     "text": [
      "        1 \n",
      "      1 2 \n",
      "    1 2 3 \n",
      "  1 2 3 4 \n",
      "1 2 3 4 5 \n"
     ]
    }
   ],
   "source": [
    "#k\n",
    "\n",
    "for x in range (1,6):\n",
    "    a=1\n",
    "    for y in range(5,0,-1):\n",
    "        if y>x:\n",
    "            print(\" \",end =\" \")\n",
    "        else:\n",
    "            print(a,end = \" \")\n",
    "            a+=1\n",
    "    print()"
   ]
  },
  {
   "cell_type": "code",
   "execution_count": null,
   "id": "10fffd4d",
   "metadata": {},
   "outputs": [],
   "source": [
    "#l"
   ]
  },
  {
   "cell_type": "code",
   "execution_count": 14,
   "id": "b8e27e8e",
   "metadata": {},
   "outputs": [
    {
     "name": "stdout",
     "output_type": "stream",
     "text": [
      "1 2 3 4 5 \n",
      "2 2 3 4 5 \n",
      "3 3 3 4 5 \n",
      "4 4 4 4 5 \n",
      "5 5 5 5 5 \n"
     ]
    }
   ],
   "source": [
    "#m\n",
    "for x in range(1,6):\n",
    "    for y in range(1,6):\n",
    "        if x>=y:\n",
    "            print(x, end =\" \")\n",
    "        else:\n",
    "            print(y, end =\" \")\n",
    "        \n",
    "        \n",
    "    print()"
   ]
  },
  {
   "cell_type": "code",
   "execution_count": 1,
   "id": "93155b42",
   "metadata": {},
   "outputs": [
    {
     "name": "stdout",
     "output_type": "stream",
     "text": [
      "1 \n",
      "2 4 \n",
      "3 6 9 \n",
      "4 8 12 16 \n",
      "5 10 15 20 25 \n",
      "6 12 18 24 30 36 \n",
      "7 14 21 28 35 42 49 \n",
      "8 16 24 32 40 48 56 64 \n"
     ]
    }
   ],
   "source": [
    "#n\n",
    "for x in range(1,9):\n",
    "    for y in range(1,x+1):\n",
    "        print(x*y, end = \" \")\n",
    "    print()"
   ]
  },
  {
   "cell_type": "code",
   "execution_count": 1,
   "id": "0f177689",
   "metadata": {},
   "outputs": [
    {
     "name": "stdout",
     "output_type": "stream",
     "text": [
      "* \n",
      "* * \n",
      "* * * \n",
      "* * * * \n",
      "* * * * * \n"
     ]
    }
   ],
   "source": [
    "#o\n",
    "for x in range(1,6):\n",
    "    for y in range(1,x+1):\n",
    "        print('*',end = \" \")\n",
    "    print()\n",
    "    "
   ]
  },
  {
   "cell_type": "code",
   "execution_count": 21,
   "id": "ad14e96d",
   "metadata": {},
   "outputs": [
    {
     "name": "stdout",
     "output_type": "stream",
     "text": [
      "          * \n",
      "        * * \n",
      "      * * * \n",
      "    * * * * \n",
      "  * * * * * \n"
     ]
    }
   ],
   "source": [
    "#p\n",
    "for x in range(1,6):\n",
    "    for y in range(6,0,-1):\n",
    "            if y>x:\n",
    "                print(\" \", end = \" \")\n",
    "            else:\n",
    "                print(\"*\", end = \" \")\n",
    "           \n",
    "    print()\n",
    "        "
   ]
  },
  {
   "cell_type": "code",
   "execution_count": 24,
   "id": "6a5d529c",
   "metadata": {},
   "outputs": [
    {
     "name": "stdout",
     "output_type": "stream",
     "text": [
      "* * * * * \n",
      "* * * * \n",
      "* * * \n",
      "* * \n",
      "* \n"
     ]
    }
   ],
   "source": [
    "#q\n",
    "for x in range(5,0,-1):\n",
    "    for y in range(1,x+1):\n",
    "        print(\"*\", end = \" \")\n",
    "    print()\n",
    "    "
   ]
  },
  {
   "cell_type": "code",
   "execution_count": 33,
   "id": "18c932b7",
   "metadata": {},
   "outputs": [
    {
     "name": "stdout",
     "output_type": "stream",
     "text": [
      "  * * * * * * \n",
      "   * * * * * \n",
      "    * * * * \n",
      "     * * * \n",
      "      * * \n",
      "       * \n"
     ]
    }
   ],
   "source": [
    "#r\n",
    "a=1\n",
    "for x in range(7,1,-1):\n",
    "    print(\" \"*a, end = \" \")\n",
    "       \n",
    "    for y in range(x,1,-1):\n",
    "        print('*', end = \" \")\n",
    "    a+=1\n",
    "    print()"
   ]
  },
  {
   "cell_type": "code",
   "execution_count": 37,
   "id": "42d0660e",
   "metadata": {},
   "outputs": [
    {
     "name": "stdout",
     "output_type": "stream",
     "text": [
      "  *****\n",
      "   ****\n",
      "    ***\n",
      "     **\n",
      "      *\n"
     ]
    }
   ],
   "source": [
    "#s\n",
    "a=1\n",
    "for x in range(5,0,-1):\n",
    "    print(\" \"*a,end = \" \")\n",
    "    for y in range(x,0,-1):\n",
    "        print(\"*\", end = \"\")\n",
    "    a+=1\n",
    "    print()"
   ]
  },
  {
   "cell_type": "code",
   "execution_count": 63,
   "id": "b0b97f75",
   "metadata": {},
   "outputs": [
    {
     "name": "stdout",
     "output_type": "stream",
     "text": [
      "        * \n",
      "       * * \n",
      "      * * * \n",
      "     * * * * \n",
      "    * * * * * \n",
      "   * * * * * * \n",
      "  * * * * * * * \n"
     ]
    }
   ],
   "source": [
    "#t\n",
    "a = 1\n",
    "for x in range(7,0,-1):\n",
    "    print(\" \"*x, end = \" \")\n",
    "    for y in range(1,a+1):\n",
    "        print(\"*\", end = \" \")\n",
    "    a+=1\n",
    "    print()"
   ]
  },
  {
   "cell_type": "code",
   "execution_count": 69,
   "id": "947a625e",
   "metadata": {},
   "outputs": [
    {
     "name": "stdout",
     "output_type": "stream",
     "text": [
      "* \n",
      "* * \n",
      "* * * \n",
      "* * * * \n",
      "* * * * * \n",
      "* * * * * * \n",
      "\n",
      "* * * * * * \n",
      "* * * * * \n",
      "* * * * \n",
      "* * * \n",
      "* * \n",
      "* \n"
     ]
    }
   ],
   "source": [
    "#q\n",
    "a=1\n",
    "for x in range(1,7):\n",
    "    for y in range(1,a+1):\n",
    "        print(\"*\", end = \" \")\n",
    "        \n",
    "    print()\n",
    "    a+=1\n",
    "print()\n",
    "\n",
    "for x in range(6,0,-1):\n",
    "    for y in range(x,0,-1):\n",
    "        print(\"*\", end = \" \")\n",
    "    print()"
   ]
  },
  {
   "cell_type": "code",
   "execution_count": 71,
   "id": "3f9e174c",
   "metadata": {},
   "outputs": [
    {
     "name": "stdout",
     "output_type": "stream",
     "text": [
      "* \n",
      "* * \n",
      "* * * \n",
      "* * * * \n",
      "* * * * * \n",
      "* * * * \n",
      "* * * \n",
      "* * \n",
      "* \n"
     ]
    }
   ],
   "source": [
    "#r\n",
    "for x in range(1,6):\n",
    "    for y in range(1,x+1):\n",
    "        print(\"*\", end = \" \")\n",
    "    print()\n",
    "for x in range(4,0,-1):\n",
    "    for y in range(x,0,-1):\n",
    "        print(\"*\", end = \" \")\n",
    "    print()\n",
    "    "
   ]
  },
  {
   "cell_type": "code",
   "execution_count": 109,
   "id": "176c7293",
   "metadata": {},
   "outputs": [
    {
     "name": "stdout",
     "output_type": "stream",
     "text": [
      "       *\n",
      "      **\n",
      "     ***\n",
      "    ****\n",
      "   *****\n",
      "    ****\n",
      "     ***\n",
      "      **\n",
      "       *\n"
     ]
    }
   ],
   "source": [
    "#s\n",
    "a = 1\n",
    "for x in range(6,1,-1):\n",
    "    print(\" \"*x, end = \" \")\n",
    "    for y in range(1,a+1):\n",
    "        print(\"*\", end = \"\")\n",
    "    a+=1\n",
    "    print()\n",
    "for x in range(1,5):\n",
    "    print(\" \"*x, end  = \"   \")\n",
    "    for y in range(x,5):\n",
    "        print(\"*\", end = \"\")\n",
    "    print()"
   ]
  },
  {
   "cell_type": "code",
   "execution_count": 107,
   "id": "c2561da6",
   "metadata": {},
   "outputs": [
    {
     "name": "stdout",
     "output_type": "stream",
     "text": [
      "  * * * * * \n",
      "   * * * * \n",
      "    * * * \n",
      "     * * \n",
      "      * \n",
      "      * \n",
      "     * * \n",
      "    * * * \n",
      "   * * * * \n",
      "  * * * * * \n"
     ]
    }
   ],
   "source": [
    "#t\n",
    "a = 1\n",
    "for x in range(5,0,-1):\n",
    "    print(\" \"*a, end = \" \")\n",
    "    for y in range(x,0,-1):\n",
    "        print(\"*\", end  = \" \")\n",
    "    a+=1\n",
    "    print()\n",
    "b=1\n",
    "for x in range(5,0,-1):\n",
    "    print(\" \"*x, end = \" \")\n",
    "    for y in range(1,b+1):\n",
    "        print(\"*\", end = \" \")\n",
    "    b+=1\n",
    "    print()"
   ]
  },
  {
   "cell_type": "code",
   "execution_count": 127,
   "id": "b2882484",
   "metadata": {},
   "outputs": [
    {
     "name": "stdout",
     "output_type": "stream",
     "text": [
      "      * \n",
      "     * * \n",
      "    * * * \n",
      "   * * * * \n",
      "  * * * * * \n",
      " * * * * * * \n",
      "  * * * * * \n",
      "   * * * * \n",
      "    * * * \n",
      "     * * \n",
      "      * \n",
      "       \n"
     ]
    }
   ],
   "source": [
    "#u\n",
    "a = 1\n",
    "for x in range(5,0,-1):\n",
    "    print(\" \"*x, end = \" \")\n",
    "    for y in range(1, a+1):\n",
    "        print(\"*\", end =\" \")\n",
    "    a+=1\n",
    "    print()\n",
    "b=1\n",
    "for x in range(7,0,-1):\n",
    "    print(\" \"*b, end = \"\")\n",
    "    for y in range(1,x):\n",
    "        print(\"*\", end = \" \")\n",
    "    b+=1\n",
    "    print()"
   ]
  },
  {
   "cell_type": "code",
   "execution_count": null,
   "id": "07307946",
   "metadata": {},
   "outputs": [],
   "source": [
    "#v\n"
   ]
  },
  {
   "cell_type": "code",
   "execution_count": null,
   "id": "f2e3316d",
   "metadata": {},
   "outputs": [],
   "source": []
  },
  {
   "cell_type": "code",
   "execution_count": null,
   "id": "2e5755f0",
   "metadata": {},
   "outputs": [],
   "source": []
  },
  {
   "cell_type": "code",
   "execution_count": null,
   "id": "7babf1fb",
   "metadata": {},
   "outputs": [],
   "source": []
  }
 ],
 "metadata": {
  "kernelspec": {
   "display_name": "Python 3 (ipykernel)",
   "language": "python",
   "name": "python3"
  },
  "language_info": {
   "codemirror_mode": {
    "name": "ipython",
    "version": 3
   },
   "file_extension": ".py",
   "mimetype": "text/x-python",
   "name": "python",
   "nbconvert_exporter": "python",
   "pygments_lexer": "ipython3",
   "version": "3.10.9"
  }
 },
 "nbformat": 4,
 "nbformat_minor": 5
}
