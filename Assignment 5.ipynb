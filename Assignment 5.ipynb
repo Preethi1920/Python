{
 "cells": [
  {
   "cell_type": "code",
   "execution_count": 20,
   "id": "249e9e13",
   "metadata": {},
   "outputs": [
    {
     "name": "stdout",
     "output_type": "stream",
     "text": [
      "[22, 54, 23, 12, 1, 4, True, 0, 54, 12]\n",
      "{0, 1, 4, 12, 23, 54, 22}\n",
      "[0, 1, 4, 12, 23, 54, 22]\n",
      "Sorted list with no duplicates :  [0, 1, 4, 12, 22, 23, 54]\n"
     ]
    }
   ],
   "source": [
    "#1. Given a list of numbers, write a python program that returns a new list which Has all duplicate elements removed.\n",
    "#And is sorted in an increasing order.\n",
    "#Ex:\n",
    "#Input:[2,1,3,4,2,3,3,2,7,9,8,7]\n",
    "#Output:[1,2,3,4,7,8,9]\n",
    "l = [22,54,23,12,1,4,True,0,54,12]\n",
    "s=set(l) #creating a copy\n",
    "print(l)\n",
    "print(s)\n",
    "l1=list(s)\n",
    "print(l1)\n",
    "l1.sort()\n",
    "print(\"Sorted list with no duplicates : \",l1)"
   ]
  },
  {
   "cell_type": "code",
   "execution_count": 24,
   "id": "6f1eb971",
   "metadata": {},
   "outputs": [
    {
     "name": "stdout",
     "output_type": "stream",
     "text": [
      "Enter length of dict: 3\n",
      "Enter key :w\n",
      "Enter Value :3\n",
      "Enter key :2\n",
      "Enter Value :r\n",
      "Enter key :@\n",
      "Enter Value :3\n",
      "{'w': '3', '2': 'r', '@': '3'}\n"
     ]
    }
   ],
   "source": [
    "#2. Write a Python program where you will iterate over both keys and values in dictionaries\n",
    "d= {}\n",
    "x = int(input(\"Enter length of dict: \"))\n",
    "for y in range(0,x):\n",
    "    k=input(\"Enter key :\")\n",
    "    v=input(\"Enter Value :\")\n",
    "    d.update({k:v})\n",
    "print(d)\n"
   ]
  },
  {
   "cell_type": "code",
   "execution_count": 33,
   "id": "6ae4895a",
   "metadata": {},
   "outputs": [
    {
     "name": "stdout",
     "output_type": "stream",
     "text": [
      "Enter the length of dictionary : 3\n",
      "Enter key: s1\n",
      "Enter value: Riya\n",
      "Enter key: s2\n",
      "Enter value: Preeti\n",
      "Enter key: s3\n",
      "Enter value: Param\n",
      "{'s1': 'Riya', 's2': 'Preeti', 's3': 'Param'}\n",
      "['Param', 'Preeti', 'Riya']\n"
     ]
    }
   ],
   "source": [
    "#3. Write a Python program that takes a dictionary of student names and returns a list of student names in alphabetical order\n",
    "#Ex:\n",
    "#Input:{“Student 1”: \"Tarun\", \"Student 2”: \"Manoj\", \"Student 3”: \"Gephi”}\n",
    "#Output:[“Gephi”,”Manoj”,” Tarun”]\n",
    "\n",
    "d={}\n",
    "l=int(input(\"Enter the length of dictionary : \"))\n",
    "for x in range(0,l):\n",
    "    k=input(\"Enter key: \")\n",
    "    v=input(\"Enter value: \")\n",
    "    d.update({k:v})\n",
    "print(d)\n",
    "l1=list(d.values())\n",
    "y=l1.sort()\n",
    "print(l1)\n",
    "#print(list(d.values()).sort()) #returns none as sort creates a copy"
   ]
  },
  {
   "cell_type": "code",
   "execution_count": 37,
   "id": "4c84fc2a",
   "metadata": {},
   "outputs": [
    {
     "name": "stdout",
     "output_type": "stream",
     "text": [
      "Enter a binary value :0100\n",
      "['False', 'True', 'False', 'False']\n"
     ]
    }
   ],
   "source": [
    "#4. Write a Python program which returns a new list of Booleans, from a given number.\n",
    "#Iterating through the number one digit at a time, append True if the digit is 1 and False if it is 0.\n",
    "#Ex:Input: “01001”\n",
    "#Output: [“False”, “True”, “False”,” False”,” True\"]\n",
    "x= input(\"Enter a binary value :\")\n",
    "y=list(x)\n",
    "for i in range(0,len(y)):\n",
    "    if y[i]=='1':\n",
    "        y[i]=\"True\"\n",
    "    elif y[i]=='0':\n",
    "        y[i]=\"False\"\n",
    "    else:\n",
    "        continue\n",
    "print(y)"
   ]
  },
  {
   "cell_type": "code",
   "execution_count": 41,
   "id": "89e32028",
   "metadata": {},
   "outputs": [
    {
     "name": "stdout",
     "output_type": "stream",
     "text": [
      "Enter a string: hellooo\n",
      "{'h': 1, 'e': 1, 'l': 2, 'o': 3}\n"
     ]
    }
   ],
   "source": [
    "#5)Write a Python program where you will return a dictionary where the keys will be the character and the values will\n",
    "#be the occurrence of the character in the string, and it should for any string inputs (dynamic)\n",
    "#Ex:Input: “my name is ame”\n",
    "#Output: {“m”:3,” y”:1,” n”:1,” a”:2,” e”:2,” i”:1,” s”:1}\n",
    "x=input(\"Enter a string: \")\n",
    "d={}\n",
    "for i in range(0,len(x)):\n",
    "    k=x[i]\n",
    "    v=x.count(x[i])\n",
    "    d.update({k:v})\n",
    "print(d)\n",
    "    "
   ]
  },
  {
   "cell_type": "code",
   "execution_count": 54,
   "id": "3406547f",
   "metadata": {},
   "outputs": [
    {
     "name": "stdout",
     "output_type": "stream",
     "text": [
      "oldest person:  Ackes\n"
     ]
    }
   ],
   "source": [
    "# 6. Given a dictionary containing the names and ages of a group of people, return the name of the oldest person\n",
    "#Ex:Input: {\"Tmma\": 41, \"Ackes\": 45, \"myna\": 15, \"Benthon\": 29}\n",
    "#Output: “Ackes”\n",
    "d={\"Tmma\": 41, \"Ackes\": 45, \"myna\": 15, \"Benthon\": 29}\n",
    "oldest_age=0\n",
    "old_name=' '\n",
    "for name,age in d.items():\n",
    "    if age>oldest_age:\n",
    "        oldest_age=age\n",
    "        old_name=name\n",
    "print(\"oldest person: \",old_name)"
   ]
  },
  {
   "cell_type": "code",
   "execution_count": 68,
   "id": "ba7adac7",
   "metadata": {},
   "outputs": [
    {
     "name": "stdout",
     "output_type": "stream",
     "text": [
      "Press 'y' to start the game and 'n' to stop (y/n) : y\n",
      "a- Pick (rock/paper/scissors) :rock\n",
      "b- Pick (rock/paper/scissors) :rock\n",
      "It is  a tie!\n",
      "Do you want to continue? (y/n)  :y\n",
      "a- Pick (rock/paper/scissors) :scissors\n",
      "b- Pick (rock/paper/scissors) :rock\n",
      "b wins!\n",
      "Do you want to continue? (y/n)  :n\n",
      "Game exited .\n"
     ]
    }
   ],
   "source": [
    "#7. Write a Python program to create a Rock, Paper, Scissor game, use two inputs for two players:\n",
    "#Conditions: -Rock beats Scissors, Scissors beats Paper, Paper beats Rock\n",
    "x=input(\"Press 'y' to start the game and 'n' to stop (y/n) : \")\n",
    "while x=='y' or x=='Y':\n",
    "    a= input(\"a- Pick (rock/paper/scissors) :\")\n",
    "    b= input(\"b- Pick (rock/paper/scissors) :\")\n",
    "    if a==\"rock\" and b==\"scissors\" or a==\"Scissors\" and b==\"paper\" or a==\"paper\" and b==\"rock\":\n",
    "        print(\"a wins!\")\n",
    "        c=input(\"Do you want to continue? (y/n)  :\")\n",
    "    elif a==b:\n",
    "        print(\"It is  a tie!\")\n",
    "        c=input(\"Do you want to continue? (y/n)  :\")\n",
    "    else:\n",
    "        print(\"b wins!\")\n",
    "        c=input(\"Do you want to continue? (y/n)  :\")\n",
    "    if c==\"y\" or c==\"Y\":\n",
    "        continue\n",
    "#    elif x!='y' or x!='Y' or x!='n' or x!='N':\n",
    " #       print(\"Enter a valid input! \")\n",
    "  #      c=input(\"Do you want to continue? (y/n)  :\")\n",
    "    else:\n",
    "        print(\"Game exited.\")\n",
    "        break"
   ]
  },
  {
   "cell_type": "code",
   "execution_count": 76,
   "id": "28f539cd",
   "metadata": {},
   "outputs": [
    {
     "name": "stdout",
     "output_type": "stream",
     "text": [
      "Enter money in your wallet: 15\n",
      "['biscuits']\n"
     ]
    }
   ],
   "source": [
    "#8. Create a program that returns a list of items that you can afford in the store with the \n",
    "#money you have in your wallet. Create a dictionary with items as key and price as values\n",
    "d={\"chocs\":\"20\",\"biscuits\":\"10\",\"lays\":\"150\"}\n",
    "x=int(input(\"Enter money in your wallet: \"))\n",
    "l=[]\n",
    "for a,b in d.items():\n",
    "    if x>=int(b):\n",
    "        l.append(a)\n",
    "    else:\n",
    "        continue\n",
    "print(l)\n",
    "    "
   ]
  },
  {
   "cell_type": "code",
   "execution_count": 85,
   "id": "d6856e7e",
   "metadata": {},
   "outputs": [
    {
     "name": "stdout",
     "output_type": "stream",
     "text": [
      "Union :  {1, 2, 3, 4, 5, 66, 77}\n"
     ]
    }
   ],
   "source": [
    "#9. Write a Python program to create a union of sets\n",
    "s1={2,3,4,5,77}\n",
    "s2={3,4,66,4,1}\n",
    "u=s1.union(s2)\n",
    "print (\"Union : \",u)"
   ]
  },
  {
   "cell_type": "code",
   "execution_count": 98,
   "id": "9ad68e0b",
   "metadata": {},
   "outputs": [
    {
     "name": "stdout",
     "output_type": "stream",
     "text": [
      "Enter length of set : 3\n",
      "Enter a value :e\n",
      "Enter a value :s\n",
      "Enter a value :d\n",
      "{'s', 'e', 'd'}\n",
      "Enter a value to check : g\n",
      "Not Present\n"
     ]
    }
   ],
   "source": [
    "#10. Write a Python program to check if a given value is present in a set or not(Dynamic)\n",
    "s=set()\n",
    "l=int(input(\"Enter length of set : \"))\n",
    "for i in range (0,l):\n",
    "    x=input(\"Enter a value :\")\n",
    "    s.add(x)\n",
    "print(s)\n",
    "c=input(\"Enter a value to check : \")\n",
    "\n",
    "if c in s:\n",
    "    print(\"Present\") \n",
    "else:\n",
    "    print(\"Not Present\")\n",
    "      "
   ]
  },
  {
   "cell_type": "code",
   "execution_count": 125,
   "id": "5ac09217",
   "metadata": {},
   "outputs": [
    {
     "name": "stdout",
     "output_type": "stream",
     "text": [
      "Enter the text: Cat dog dog cat horse dog dog mouse horse dog mouse tiger lion tiger cat mouse snail\n",
      "['dog', 'dog', 'dog', 'mouse', 'tiger', 'tiger', 'cat', 'mouse']\n",
      "{'dog': 5}\n"
     ]
    }
   ],
   "source": [
    "#11. Write a Python program to find the occurrences of 3 most common words in a given text. And make it as a dictionaries\n",
    "#Ex:Input:\n",
    "#” Cat dog dog cat horse dog dog mouse horse dog mouse tiger lion tiger cat mouse snail”\n",
    "#Output: (“dog”:5,”cat”:3,” mouse”;3)\n",
    "\n",
    "d={}\n",
    "a=0;b=0;c=0;a1=\"\";b1=\"\";c1=\"\"\n",
    "x = input(\"Enter the text: \")\n",
    "y = x.split()\n",
    "for i in y:\n",
    "\n",
    "    if y.count(i)>a:\n",
    "        a=y.count(i)\n",
    "        a1=i\n",
    "    y.remove(i)\n",
    "\n",
    "print(y)\n",
    "print({a1:a})\n"
   ]
  },
  {
   "cell_type": "code",
   "execution_count": 128,
   "id": "c5c4f11a",
   "metadata": {},
   "outputs": [
    {
     "name": "stdout",
     "output_type": "stream",
     "text": [
      "Enter a string: Cat dog dog cat horse dog dog mouse horse dog mouse tiger lion tiger cat mouse snail\n",
      "{'dog': 5, 'mouse': 3, 'cat': 2}\n"
     ]
    }
   ],
   "source": [
    "x=input(\"Enter a string: \")\n",
    "l=x.split()\n",
    "a=0;b=0;c=0;d={};a1=\"\";b1=\"\";c1=\"\"\n",
    "for x in l:\n",
    "    if l.count(x)>a:\n",
    "        a=l.count(x)\n",
    "        a1=x\n",
    "for x in range(1,a):\n",
    "    l.remove(a1)\n",
    "for y in l:\n",
    "    if l.count(y)>b:\n",
    "        b=l.count(y)\n",
    "        b1=y\n",
    "for y in range(1,b):\n",
    "    l.remove(b1)\n",
    "for z in l:\n",
    "    if l.count(z)>c:\n",
    "        c=l.count(z)\n",
    "        c1=z\n",
    "d.update({a1:a,b1:b,c1:c})\n",
    "print(d)"
   ]
  },
  {
   "cell_type": "code",
   "execution_count": 7,
   "id": "923d3f53",
   "metadata": {},
   "outputs": [
    {
     "name": "stdout",
     "output_type": "stream",
     "text": [
      "Enter the number of subjects: 2\n",
      "Enter the subject name: Hindi\n",
      "Enter the marks: 45\n",
      "Enter the subject name: Maths\n",
      "Enter the marks: 56\n",
      "{'Hindi': 45.0, 'Maths': 56.0}\n"
     ]
    }
   ],
   "source": [
    "#12. Write a python program that accepts name of given subject and mark, and make subject as keys in dictionaries \n",
    "#and marks as values and print the final dictionary with subjects and marks.\n",
    "d={}\n",
    "x=int(input(\"Enter the number of subjects: \"))\n",
    "for i in range(x):\n",
    "    s=input(\"Enter the subject name: \")\n",
    "    m=float(input(\"Enter the marks: \"))\n",
    "    d.update({s:m})\n",
    "print(d)"
   ]
  },
  {
   "cell_type": "code",
   "execution_count": 2,
   "id": "a001c28f",
   "metadata": {},
   "outputs": [],
   "source": []
  },
  {
   "cell_type": "code",
   "execution_count": null,
   "id": "09fdaa57",
   "metadata": {},
   "outputs": [],
   "source": []
  },
  {
   "cell_type": "code",
   "execution_count": null,
   "id": "d817b4cb",
   "metadata": {},
   "outputs": [],
   "source": []
  },
  {
   "cell_type": "code",
   "execution_count": null,
   "id": "5b120155",
   "metadata": {},
   "outputs": [],
   "source": []
  }
 ],
 "metadata": {
  "kernelspec": {
   "display_name": "Python 3 (ipykernel)",
   "language": "python",
   "name": "python3"
  },
  "language_info": {
   "codemirror_mode": {
    "name": "ipython",
    "version": 3
   },
   "file_extension": ".py",
   "mimetype": "text/x-python",
   "name": "python",
   "nbconvert_exporter": "python",
   "pygments_lexer": "ipython3",
   "version": "3.10.9"
  }
 },
 "nbformat": 4,
 "nbformat_minor": 5
}
