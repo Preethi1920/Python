{
 "cells": [
  {
   "cell_type": "code",
   "execution_count": null,
   "id": "650bdf06",
   "metadata": {},
   "outputs": [],
   "source": [
    "#1. Convert a string to lower case "
   ]
  },
  {
   "cell_type": "code",
   "execution_count": 1,
   "id": "dc28349d",
   "metadata": {},
   "outputs": [
    {
     "data": {
      "text/plain": [
       "'hhhh'"
      ]
     },
     "execution_count": 1,
     "metadata": {},
     "output_type": "execute_result"
    }
   ],
   "source": [
    "x = 'HHHh'\n",
    "y = x.lower()\n",
    "y"
   ]
  },
  {
   "cell_type": "code",
   "execution_count": null,
   "id": "0a43888f",
   "metadata": {},
   "outputs": [],
   "source": [
    "#2. Odd indexed characters to lower case"
   ]
  },
  {
   "cell_type": "code",
   "execution_count": 5,
   "id": "9a75cdfd",
   "metadata": {},
   "outputs": [
    {
     "data": {
      "text/plain": [
       "'PiNeApPlE'"
      ]
     },
     "execution_count": 5,
     "metadata": {},
     "output_type": "execute_result"
    }
   ],
   "source": [
    "x = 'PINEAPPLE'\n",
    "y = x[0]+x[1].lower()+x[2]+x[3].lower()+x[4]+x[5].lower()+x[6]+x[7].lower()+x[8]\n",
    "y"
   ]
  },
  {
   "cell_type": "code",
   "execution_count": null,
   "id": "8041608f",
   "metadata": {},
   "outputs": [],
   "source": [
    "#3. Even indexed characters to lower case"
   ]
  },
  {
   "cell_type": "code",
   "execution_count": 3,
   "id": "7ef79c7f",
   "metadata": {},
   "outputs": [
    {
     "data": {
      "text/plain": [
       "'iNdIaNa'"
      ]
     },
     "execution_count": 3,
     "metadata": {},
     "output_type": "execute_result"
    }
   ],
   "source": [
    "x = 'INDIANA'\n",
    "y = x[0].lower()+x[1]+x[2].lower()+x[3]+x[4].lower()+x[5]+x[6].lower()\n",
    "y"
   ]
  },
  {
   "cell_type": "code",
   "execution_count": null,
   "id": "936fa29c",
   "metadata": {},
   "outputs": [],
   "source": [
    "#4. Odd indexed characters to upper case"
   ]
  },
  {
   "cell_type": "code",
   "execution_count": 1,
   "id": "c2c90c3c",
   "metadata": {},
   "outputs": [
    {
     "name": "stdout",
     "output_type": "stream",
     "text": [
      "pYtHoN\n"
     ]
    }
   ],
   "source": [
    "x = 'python'\n",
    "y = x[0]+x[1].upper()+x[2]+x[3].upper()+x[4]+x[5].upper()\n",
    "print(y)"
   ]
  },
  {
   "cell_type": "code",
   "execution_count": null,
   "id": "5072304c",
   "metadata": {},
   "outputs": [],
   "source": [
    "#5. Even indexed charcters to upper case"
   ]
  },
  {
   "cell_type": "code",
   "execution_count": 35,
   "id": "7be7c3d8",
   "metadata": {},
   "outputs": [
    {
     "name": "stdout",
     "output_type": "stream",
     "text": [
      "Enter a string : python\n",
      " pYtHoN\n"
     ]
    }
   ],
   "source": [
    "#using for loop\n",
    "\n",
    "x = input(\"Enter a string : \")\n",
    "c = \" \"\n",
    "for i in range(1,len(x)+1):\n",
    "    if i%2==0:\n",
    "        c+=x[i-1].upper()\n",
    "    else:\n",
    "        c+=x[i-1]\n",
    "print(c)\n"
   ]
  },
  {
   "cell_type": "code",
   "execution_count": null,
   "id": "177b69bd",
   "metadata": {},
   "outputs": [],
   "source": [
    "#6. Print bio data with inputs"
   ]
  },
  {
   "cell_type": "code",
   "execution_count": 9,
   "id": "127ac31c",
   "metadata": {},
   "outputs": [
    {
     "name": "stdout",
     "output_type": "stream",
     "text": [
      "My name is : Preeti\n",
      "My age is :23\n",
      "My height is : 56\n",
      "Address :hyd\n",
      "Phone number :6757\n",
      "Name : Preeti, Age: 23, Height :56.0, Address: hyd, Contact_no : 6757\n"
     ]
    }
   ],
   "source": [
    "name = input(\"My name is : \")\n",
    "age = int(input(\"My age is :\"))\n",
    "height = float(input(\"My height is : \"))\n",
    "address = input(\"Address :\")\n",
    "contact_no = int(input(\"Phone number :\"))\n",
    "bio_data = \"Name : {}, Age: {}, Height :{}, Address: {}, Contact_no : {}\".format(name,age, height,address, contact_no)\n",
    "#print(f\"Name :{name}, Age :{age}, Height :{height}\")\n",
    "print(bio_data)\n"
   ]
  },
  {
   "cell_type": "code",
   "execution_count": null,
   "id": "c91c4455",
   "metadata": {},
   "outputs": [],
   "source": [
    "#7.Count how many \"@\" occured"
   ]
  },
  {
   "cell_type": "code",
   "execution_count": 6,
   "id": "4ce8ebbf",
   "metadata": {},
   "outputs": [
    {
     "data": {
      "text/plain": [
       "4"
      ]
     },
     "execution_count": 6,
     "metadata": {},
     "output_type": "execute_result"
    }
   ],
   "source": [
    "x = \"nmj@@@juh2@\"\n",
    "y = x.count(\"@\")\n",
    "y"
   ]
  },
  {
   "cell_type": "code",
   "execution_count": 38,
   "id": "34e2c2cb",
   "metadata": {},
   "outputs": [
    {
     "name": "stdout",
     "output_type": "stream",
     "text": [
      " name1,name2,name3\n"
     ]
    }
   ],
   "source": [
    "#8.program to get only names from the string\n",
    "\n",
    "x = 'name1@gmail.com,name2@gmail.com,name3@gmail.com'\n",
    "y = x.split(\"@gmail.com\")\n",
    "#print(y)\n",
    "a = \" \"\n",
    "for z in range(0,len(y)):\n",
    "    a+=y[z]\n",
    "print(a)\n",
    "    "
   ]
  },
  {
   "cell_type": "code",
   "execution_count": 39,
   "id": "cf7ba02e",
   "metadata": {},
   "outputs": [
    {
     "name": "stdout",
     "output_type": "stream",
     "text": [
      "enter string :1234567776875\n",
      "677\n"
     ]
    }
   ],
   "source": [
    "#9.print middle 3 chars of an odd no of chars string, len>9\n",
    "x = input(\"enter string :\")\n",
    "y = len(x)//2\n",
    "print(x[y-1:y+2])"
   ]
  },
  {
   "cell_type": "code",
   "execution_count": 40,
   "id": "871283df",
   "metadata": {},
   "outputs": [
    {
     "name": "stdout",
     "output_type": "stream",
     "text": [
      "Enter first string :abcdef\n",
      "Enter string to be inserted :1234\n",
      "abc1234def\n"
     ]
    }
   ],
   "source": [
    "#10 insert a new string in the old string\n",
    "x = input(\"Enter first string :\")\n",
    "y = input(\"Enter string to be inserted :\")\n",
    "z = len(x)//2\n",
    "a = x[:z]+y+x[z:]\n",
    "print(a)"
   ]
  },
  {
   "cell_type": "code",
   "execution_count": 46,
   "id": "524b93d1",
   "metadata": {},
   "outputs": [
    {
     "name": "stdout",
     "output_type": "stream",
     "text": [
      "Enter a string : ghaejyIO\n",
      " ghjy\n"
     ]
    }
   ],
   "source": [
    "#11 remove vowels\n",
    "x = input(\"Enter a string : \")\n",
    "z = \" \"\n",
    "for y in range(0,len(x)):\n",
    "    if x[y]=='a' or x[y]=='e' or x[y]=='i' or x[y]=='o' or x[y]=='u' or x[y]=='A' or x[y]=='E' or x[y]=='I' or x[y]==\"O\" or x[y]=='U':\n",
    "        z+=\"\"\n",
    "    else:\n",
    "        z+=x[y]\n",
    "        \n",
    "print(z)\n"
   ]
  },
  {
   "cell_type": "code",
   "execution_count": null,
   "id": "ae43371d",
   "metadata": {},
   "outputs": [],
   "source": []
  }
 ],
 "metadata": {
  "kernelspec": {
   "display_name": "Python 3 (ipykernel)",
   "language": "python",
   "name": "python3"
  },
  "language_info": {
   "codemirror_mode": {
    "name": "ipython",
    "version": 3
   },
   "file_extension": ".py",
   "mimetype": "text/x-python",
   "name": "python",
   "nbconvert_exporter": "python",
   "pygments_lexer": "ipython3",
   "version": "3.10.9"
  }
 },
 "nbformat": 4,
 "nbformat_minor": 5
}
