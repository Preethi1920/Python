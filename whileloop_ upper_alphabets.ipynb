{
 "cells": [
  {
   "cell_type": "markdown",
   "id": "3fd5483e",
   "metadata": {},
   "source": [
    "### while loop \n",
    "* 1. Define a variable\n",
    "* 2. while loop with a condition \n",
    "* 3. a logic to make the condition false"
   ]
  },
  {
   "cell_type": "code",
   "execution_count": 5,
   "id": "e1fd9629",
   "metadata": {},
   "outputs": [
    {
     "name": "stdout",
     "output_type": "stream",
     "text": [
      "   *   \n",
      "*     *\n",
      "*  *  *\n",
      "*     *\n",
      "*     *\n"
     ]
    }
   ],
   "source": [
    "#A\n",
    "x=0 \n",
    "while x<5:\n",
    "    if x==0:\n",
    "        print(\"   *   \")\n",
    "    elif x==2:\n",
    "        print(\"*  *  *\")\n",
    "    else:\n",
    "        print(\"*     *\")\n",
    "    x+=1\n",
    "    "
   ]
  },
  {
   "cell_type": "code",
   "execution_count": 9,
   "id": "47d9744c",
   "metadata": {},
   "outputs": [
    {
     "name": "stdout",
     "output_type": "stream",
     "text": [
      "* * *\n",
      "*    *\n",
      "* * *\n",
      "*    *\n",
      "* * *\n"
     ]
    }
   ],
   "source": [
    "#B\n",
    "x=0\n",
    "while x<5:\n",
    "    if x==0 or x==2 or x==4:\n",
    "        print(\"* * *\")\n",
    "    else:\n",
    "        print(\"*    *\")\n",
    "    x+=1\n",
    "    "
   ]
  },
  {
   "cell_type": "code",
   "execution_count": 11,
   "id": "266666da",
   "metadata": {},
   "outputs": [
    {
     "name": "stdout",
     "output_type": "stream",
     "text": [
      "  *  *\n",
      "*\n",
      "*\n",
      "*\n",
      "  *  *\n"
     ]
    }
   ],
   "source": [
    "#C\n",
    "x=0\n",
    "while x<5:\n",
    "    if x==0 or x==4:\n",
    "        print(\"  *  *\")\n",
    "    else: \n",
    "        print(\"*\")\n",
    "    x+=1\n",
    "    "
   ]
  },
  {
   "cell_type": "code",
   "execution_count": 19,
   "id": "3678597b",
   "metadata": {},
   "outputs": [
    {
     "name": "stdout",
     "output_type": "stream",
     "text": [
      "* *\n",
      "*   *\n",
      "*    *\n",
      "*   *\n",
      "* *\n"
     ]
    }
   ],
   "source": [
    "#D\n",
    "x=0\n",
    "while x<5:\n",
    "    if x==0 or x==4:\n",
    "        print(\"* *\")\n",
    "    elif x==1 or x==3:\n",
    "        print(\"*   *\")\n",
    "    else:\n",
    "        print(\"*    *\")\n",
    "    x+=1\n",
    "    "
   ]
  },
  {
   "cell_type": "code",
   "execution_count": 21,
   "id": "82126187",
   "metadata": {},
   "outputs": [
    {
     "name": "stdout",
     "output_type": "stream",
     "text": [
      "* * *\n",
      "*\n",
      "* * *\n",
      "*\n",
      "* * *\n"
     ]
    }
   ],
   "source": [
    "#E\n",
    "x=0\n",
    "while x<5:\n",
    "    if x==1 or x==3:\n",
    "        print(\"*\")\n",
    "    else:\n",
    "        print(\"* * *\")\n",
    "    x+=1"
   ]
  },
  {
   "cell_type": "code",
   "execution_count": 23,
   "id": "558f5a0e",
   "metadata": {},
   "outputs": [
    {
     "name": "stdout",
     "output_type": "stream",
     "text": [
      "* * *\n",
      "*\n",
      "* * *\n",
      "*\n",
      "*\n"
     ]
    }
   ],
   "source": [
    "#F\n",
    "x=0\n",
    "while x<5:\n",
    "    if x==0 or x==2:\n",
    "        print(\"* * *\")\n",
    "    else:\n",
    "        print(\"*\")\n",
    "    x+=1"
   ]
  },
  {
   "cell_type": "code",
   "execution_count": 35,
   "id": "04f321a8",
   "metadata": {},
   "outputs": [
    {
     "name": "stdout",
     "output_type": "stream",
     "text": [
      "   * *\n",
      " *\n",
      "*   * *\n",
      "*   * *\n",
      "  *   *\n"
     ]
    }
   ],
   "source": [
    "#G\n",
    "x=0\n",
    "while x<5:\n",
    "    if x==0:\n",
    "        print(\"   * *\")\n",
    "    elif x==1:\n",
    "        print(\" *\")\n",
    "    elif x==2:\n",
    "        print(\"*   * *\")\n",
    "    elif x==3:\n",
    "        print(\"*   * *\")\n",
    "    else:\n",
    "        print(\"  *   *\")\n",
    "    x+=1\n"
   ]
  },
  {
   "cell_type": "code",
   "execution_count": 44,
   "id": "8075001a",
   "metadata": {},
   "outputs": [
    {
     "name": "stdout",
     "output_type": "stream",
     "text": [
      "*     *\n",
      "*     *\n",
      "* * * *\n",
      "*     *\n",
      "*     *\n"
     ]
    }
   ],
   "source": [
    "#H\n",
    "x=0\n",
    "while x<5:\n",
    "    if x==2:\n",
    "        print(\"* * * *\")\n",
    "    else:\n",
    "        print(\"*     *\")\n",
    "    x+=1\n"
   ]
  },
  {
   "cell_type": "code",
   "execution_count": 45,
   "id": "53ef161f",
   "metadata": {},
   "outputs": [
    {
     "name": "stdout",
     "output_type": "stream",
     "text": [
      "* * *\n",
      "  *  \n",
      "  *  \n",
      "  *  \n",
      "* * *\n"
     ]
    }
   ],
   "source": [
    "#I\n",
    "x=0\n",
    "while x<5:\n",
    "    if x==0 or x==4:\n",
    "        print(\"* * *\")\n",
    "    else:\n",
    "        print(\"  *  \")\n",
    "    x+=1"
   ]
  },
  {
   "cell_type": "code",
   "execution_count": 48,
   "id": "314d57ed",
   "metadata": {},
   "outputs": [
    {
     "name": "stdout",
     "output_type": "stream",
     "text": [
      "* * *\n",
      "  * \n",
      "  * \n",
      "  * \n",
      "* *\n"
     ]
    }
   ],
   "source": [
    "#J\n",
    "x=0\n",
    "while x<5:\n",
    "    if x==0:\n",
    "        print(\"* * *\")\n",
    "    elif x==4:\n",
    "        print(\"* *\")\n",
    "    else:\n",
    "        print(\"  * \")\n",
    "    x+=1"
   ]
  },
  {
   "cell_type": "code",
   "execution_count": 51,
   "id": "7414f1c2",
   "metadata": {},
   "outputs": [
    {
     "name": "stdout",
     "output_type": "stream",
     "text": [
      "*    *\n",
      "*  *\n",
      "* *\n",
      "*  *\n",
      "*    *\n"
     ]
    }
   ],
   "source": [
    "#K\n",
    "x=0\n",
    "while x<5:\n",
    "    if x==0 or x==4:\n",
    "        print(\"*    *\")\n",
    "    elif x==2:\n",
    "        print(\"* *\")\n",
    "    else:\n",
    "        print(\"*  *\")\n",
    "    x+=1\n",
    "    "
   ]
  },
  {
   "cell_type": "code",
   "execution_count": 53,
   "id": "6a1cfd80",
   "metadata": {},
   "outputs": [
    {
     "name": "stdout",
     "output_type": "stream",
     "text": [
      "*\n",
      "*\n",
      "*\n",
      "*\n",
      "*  *  *\n"
     ]
    }
   ],
   "source": [
    "#L\n",
    "x=0\n",
    "while x<5:\n",
    "    if x==4:\n",
    "        print(\"*  *  *\")\n",
    "    else:\n",
    "        print(\"*\")\n",
    "    x+=1"
   ]
  },
  {
   "cell_type": "code",
   "execution_count": 63,
   "id": "3ac022f3",
   "metadata": {},
   "outputs": [
    {
     "name": "stdout",
     "output_type": "stream",
     "text": [
      "*       *\n",
      "* *   * *\n",
      "*   *   *\n",
      "*       *\n",
      "*       *\n"
     ]
    }
   ],
   "source": [
    "#M\n",
    "x=0\n",
    "while x<5:\n",
    "    if x==2:\n",
    "        print(\"*   *   *\")\n",
    "    elif x==1: \n",
    "        print(\"* *   * *\")\n",
    "    else:\n",
    "        print(\"*       *\")\n",
    "    x+=1"
   ]
  },
  {
   "cell_type": "code",
   "execution_count": 79,
   "id": "aa20a4c6",
   "metadata": {
    "scrolled": true
   },
   "outputs": [
    {
     "name": "stdout",
     "output_type": "stream",
     "text": [
      "*       *\n",
      "* *     *\n",
      "*   *   *\n",
      "*     * *\n",
      "*       *\n"
     ]
    }
   ],
   "source": [
    "#N\n",
    "x=0\n",
    "while x<5:\n",
    "    if x==0 or x==4:\n",
    "        print(\"*       *\")\n",
    "    elif x==1:\n",
    "        print(\"* *     *\")\n",
    "    elif x==3:\n",
    "        print(\"*     * *\")\n",
    "    else:\n",
    "        print(\"*   *   *\")\n",
    "    x+=1"
   ]
  },
  {
   "cell_type": "code",
   "execution_count": 82,
   "id": "cc46e208",
   "metadata": {},
   "outputs": [
    {
     "name": "stdout",
     "output_type": "stream",
     "text": [
      " * * * \n",
      "*     *\n",
      "*     *\n",
      "*     *\n",
      " * * * \n"
     ]
    }
   ],
   "source": [
    "#O\n",
    "x=0\n",
    "while x<5:\n",
    "    if x==0 or x==4:\n",
    "        print(\" * * * \")\n",
    "    else:\n",
    "        print(\"*     *\")\n",
    "    x+=1"
   ]
  },
  {
   "cell_type": "code",
   "execution_count": 87,
   "id": "0f4eaf95",
   "metadata": {},
   "outputs": [
    {
     "name": "stdout",
     "output_type": "stream",
     "text": [
      "*  * \n",
      "*   *\n",
      "*  * \n",
      "*\n",
      "*\n"
     ]
    }
   ],
   "source": [
    "#P\n",
    "x=0\n",
    "while x<5:\n",
    "    if x==0 or x==2:\n",
    "        print(\"*  * \")\n",
    "    elif x==1: \n",
    "        print(\"*   *\")\n",
    "    else:\n",
    "        print(\"*\")\n",
    "    x+=1"
   ]
  },
  {
   "cell_type": "code",
   "execution_count": 101,
   "id": "ab3bc9b6",
   "metadata": {},
   "outputs": [
    {
     "name": "stdout",
     "output_type": "stream",
     "text": [
      "   *  \n",
      " *   * \n",
      "*  *  *\n",
      " *   * \n",
      "   *   *\n",
      "         *\n"
     ]
    }
   ],
   "source": [
    "#Q\n",
    "x=0\n",
    "while x<6:\n",
    "    if x==0:\n",
    "        print(\"   *  \")\n",
    "    elif x==1 or x==3:\n",
    "        print(\" *   * \")\n",
    "    elif x==2:\n",
    "        print(\"*  *  *\")\n",
    "    elif x==4:\n",
    "        print(\"   *   *\")\n",
    "    else:\n",
    "        print(\"         *\")\n",
    "    x+=1\n",
    "    \n"
   ]
  },
  {
   "cell_type": "code",
   "execution_count": 103,
   "id": "ac9a8fcb",
   "metadata": {},
   "outputs": [
    {
     "name": "stdout",
     "output_type": "stream",
     "text": [
      "*  *\n",
      "*   *\n",
      "* *\n",
      "*   *\n",
      "*   *\n"
     ]
    }
   ],
   "source": [
    "#R\n",
    "x=0\n",
    "while x<5:\n",
    "    if x==1 or x==4 or x==3:\n",
    "        print(\"*   *\")\n",
    "    elif x==0:\n",
    "        print(\"*  *\")\n",
    "    else:\n",
    "        print(\"* *\")\n",
    "    x+=1"
   ]
  },
  {
   "cell_type": "code",
   "execution_count": 107,
   "id": "ff9d5973",
   "metadata": {},
   "outputs": [
    {
     "name": "stdout",
     "output_type": "stream",
     "text": [
      "*  *  *\n",
      "*   \n",
      "*  *  *\n",
      "      *\n",
      "*  *  *\n"
     ]
    }
   ],
   "source": [
    "#S\n",
    "x=0\n",
    "while x<5:\n",
    "    if x==0 or x==2 or x==4:\n",
    "        print(\"*  *  *\")\n",
    "    elif x==1:\n",
    "        print(\"*   \")\n",
    "    else:\n",
    "        print(\"      *\")\n",
    "    x+=1"
   ]
  },
  {
   "cell_type": "code",
   "execution_count": 17,
   "id": "4ff11ad2",
   "metadata": {},
   "outputs": [
    {
     "name": "stdout",
     "output_type": "stream",
     "text": [
      "** * **\n",
      "   *   \n",
      "   *   \n",
      "   *   \n",
      "   *   \n"
     ]
    }
   ],
   "source": [
    "#T\n",
    "x=0\n",
    "while x<5:\n",
    "    if x==0:\n",
    "        print(\"** * **\")\n",
    "    else: \n",
    "        print(\"   *   \")\n",
    "    x+=1"
   ]
  },
  {
   "cell_type": "code",
   "execution_count": 6,
   "id": "af2abc85",
   "metadata": {},
   "outputs": [
    {
     "name": "stdout",
     "output_type": "stream",
     "text": [
      "*       *\n",
      "*       *\n",
      "*       *\n",
      "*       *\n",
      "  * * *  \n"
     ]
    }
   ],
   "source": [
    "#u\n",
    "x=0\n",
    "while(x<5):\n",
    "    if x==0 or x==1 or x==2 or x==3:\n",
    "        print(\"*       *\")\n",
    "    else:\n",
    "        print(\"  * * *  \")\n",
    "    x+=1"
   ]
  },
  {
   "cell_type": "code",
   "execution_count": 7,
   "id": "1bb85db1",
   "metadata": {},
   "outputs": [
    {
     "name": "stdout",
     "output_type": "stream",
     "text": [
      "*         *\n",
      " *       * \n",
      "  *     *  \n",
      "   *   *   \n",
      "     *     \n"
     ]
    }
   ],
   "source": [
    "#v\n",
    "x=0\n",
    "while(x<5):\n",
    "    if x==0:\n",
    "        print(\"*         *\")\n",
    "    elif x==1:\n",
    "        print(\" *       * \")\n",
    "    elif x==2:\n",
    "        print(\"  *     *  \") \n",
    "    elif x==3:\n",
    "        print(\"   *   *   \")\n",
    "    else:\n",
    "        print(\"     *     \")\n",
    "    x+=1"
   ]
  },
  {
   "cell_type": "code",
   "execution_count": 23,
   "id": "d92b6b67",
   "metadata": {},
   "outputs": [
    {
     "name": "stdout",
     "output_type": "stream",
     "text": [
      "*         *\n",
      "*         *\n",
      "*    *    *\n",
      "*  *   *  *\n",
      "*         *\n"
     ]
    }
   ],
   "source": [
    "#w\n",
    "x=0\n",
    "while(x<5):\n",
    "    if x==0 or x==1 or x==4:\n",
    "        print(\"*         *\")\n",
    "    elif x==2:\n",
    "        print(\"*    *    *\")\n",
    "    else:\n",
    "        print(\"*  *   *  *\")\n",
    "  \n",
    "    x+=1"
   ]
  },
  {
   "cell_type": "code",
   "execution_count": 32,
   "id": "bf0d65fb",
   "metadata": {},
   "outputs": [
    {
     "name": "stdout",
     "output_type": "stream",
     "text": [
      "*       *\n",
      "  *   *  \n",
      "    *   \n",
      "  *   *  \n",
      "*       *\n"
     ]
    }
   ],
   "source": [
    "#x\n",
    "x=0\n",
    "while(x<5):\n",
    "    if x==0 or x==4:\n",
    "        print(\"*       *\")\n",
    "    elif x==3 or x==1:\n",
    "        print(\"  *   *  \")\n",
    "    else:\n",
    "        print(\"    *   \")\n",
    "  \n",
    "    x+=1"
   ]
  },
  {
   "cell_type": "code",
   "execution_count": 34,
   "id": "6a511c5a",
   "metadata": {},
   "outputs": [
    {
     "name": "stdout",
     "output_type": "stream",
     "text": [
      "*       *\n",
      "  *   *  \n",
      "    *    \n",
      "    *    \n",
      "    *    \n"
     ]
    }
   ],
   "source": [
    "#y\n",
    "x=0\n",
    "while x<5:\n",
    "    if x==0:\n",
    "        print(\"*       *\")\n",
    "    elif x==1:\n",
    "        print(\"  *   *  \")\n",
    "    else:\n",
    "        print(\"    *    \")\n",
    "    x+=1\n"
   ]
  },
  {
   "cell_type": "code",
   "execution_count": 39,
   "id": "683420af",
   "metadata": {},
   "outputs": [
    {
     "name": "stdout",
     "output_type": "stream",
     "text": [
      "* * * * *\n",
      "      *  \n",
      "    *    \n",
      "  *     \n",
      "* * * * *\n"
     ]
    }
   ],
   "source": [
    "#z\n",
    "x=0\n",
    "while x<5:\n",
    "    if x==0 or x==4:\n",
    "        print(\"* * * * *\")\n",
    "    elif x==1:\n",
    "        print(\"      *  \")\n",
    "    elif x==2:\n",
    "        print(\"    *    \")\n",
    "    else:\n",
    "        print(\"  *      \")\n",
    "\n",
    "    x+=1"
   ]
  }
 ],
 "metadata": {
  "kernelspec": {
   "display_name": "Python 3 (ipykernel)",
   "language": "python",
   "name": "python3"
  },
  "language_info": {
   "codemirror_mode": {
    "name": "ipython",
    "version": 3
   },
   "file_extension": ".py",
   "mimetype": "text/x-python",
   "name": "python",
   "nbconvert_exporter": "python",
   "pygments_lexer": "ipython3",
   "version": "3.10.9"
  }
 },
 "nbformat": 4,
 "nbformat_minor": 5
}
