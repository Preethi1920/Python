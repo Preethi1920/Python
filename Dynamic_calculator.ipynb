{
 "cells": [
  {
   "cell_type": "code",
   "execution_count": 1,
   "id": "1f7bf870",
   "metadata": {},
   "outputs": [
    {
     "name": "stdout",
     "output_type": "stream",
     "text": [
      "Press y to use the calculator? (y): y\n",
      "Enter first number :6\n",
      "Enter the arithmetic operator(Add(+),Subtract(-),Multiply(*),Divide(/),Floor Division(//),Modulous(%),Exponent(**)  :o\n",
      "Enter second number :9\n",
      "Please enter a valid operator! \n",
      "Do you want to continue? (y/n) :y\n",
      "Enter first number :6\n",
      "Enter the arithmetic operator(Add(+),Subtract(-),Multiply(*),Divide(/),Floor Division(//),Modulous(%),Exponent(**)  :-\n",
      "Enter second number :2\n",
      "Difference = 4.0\n",
      "Do you want to continue? (y/n) :n\n",
      "Thankyou!\n"
     ]
    }
   ],
   "source": [
    "#Dynamic calculator\n",
    "n= input(\"Press y to use the calculator? (y): \")\n",
    "while n==\"y\" or n==\"Y\":\n",
    "    x= float(input(\"Enter first number :\"))\n",
    "    y=input(\"Enter the arithmetic operator(Add(+),Subtract(-),Multiply(*),Divide(/),Floor Division(//),Modulous(%),Exponent(**)  :\")\n",
    "    z=float(input(\"Enter second number :\"))\n",
    "\n",
    "    if y==\"+\":\n",
    "        print(f\"Sum = {x+z}\")\n",
    "    elif y==\"-\":\n",
    "        print(f\"Difference = {x-z}\")\n",
    "    elif y==\"*\":\n",
    "        print(f\"Product = {x*z}\")\n",
    "    elif y==\"/\":\n",
    "        print(f\"Quotient = {x/z}\")\n",
    "    elif y==\"//\":\n",
    "        print(f\"Floor division = {x//z}\")\n",
    "    elif y==\"%\":\n",
    "        print(f\"Remainder = {x%z}\")\n",
    "    elif y==\"**\":\n",
    "        print(f\"Exponent value = {x**z}\")\n",
    "    else:\n",
    "        print(\"Please enter a valid operator! \")\n",
    "    \n",
    "    m= input(\"Do you want to continue? (y/n) :\")\n",
    "    if m==\"y\":\n",
    "        continue\n",
    "    elif m==\"n\":\n",
    "        print(\"Thankyou!\")\n",
    "        break\n",
    "    else:\n",
    "        print(\"Please enter either y or n :\")\n"
   ]
  }
 ],
 "metadata": {
  "kernelspec": {
   "display_name": "Python 3 (ipykernel)",
   "language": "python",
   "name": "python3"
  },
  "language_info": {
   "codemirror_mode": {
    "name": "ipython",
    "version": 3
   },
   "file_extension": ".py",
   "mimetype": "text/x-python",
   "name": "python",
   "nbconvert_exporter": "python",
   "pygments_lexer": "ipython3",
   "version": "3.10.9"
  }
 },
 "nbformat": 4,
 "nbformat_minor": 5
}
