{
 "cells": [
  {
   "cell_type": "code",
   "execution_count": 3,
   "id": "e6e4d573",
   "metadata": {},
   "outputs": [
    {
     "name": "stdout",
     "output_type": "stream",
     "text": [
      "Enter the number you want the table of :4\n",
      "Enter number you want multiplication upto :20\n",
      "4x1=4\n",
      "4x2=8\n",
      "4x3=12\n",
      "4x4=16\n",
      "4x5=20\n",
      "4x6=24\n",
      "4x7=28\n",
      "4x8=32\n",
      "4x9=36\n",
      "4x10=40\n",
      "4x11=44\n",
      "4x12=48\n",
      "4x13=52\n",
      "4x14=56\n",
      "4x15=60\n",
      "4x16=64\n",
      "4x17=68\n",
      "4x18=72\n",
      "4x19=76\n",
      "4x20=80\n"
     ]
    }
   ],
   "source": [
    "#multiplication table\n",
    "x = int(input(\"Enter the number you want the table of :\"))\n",
    "y = int(input(\"Enter number you want multiplication upto :\"))\n",
    "\n",
    "for y in range(1,y+1):\n",
    "    print(f\"{x}x{y}={x*y}\")"
   ]
  }
 ],
 "metadata": {
  "kernelspec": {
   "display_name": "Python 3 (ipykernel)",
   "language": "python",
   "name": "python3"
  },
  "language_info": {
   "codemirror_mode": {
    "name": "ipython",
    "version": 3
   },
   "file_extension": ".py",
   "mimetype": "text/x-python",
   "name": "python",
   "nbconvert_exporter": "python",
   "pygments_lexer": "ipython3",
   "version": "3.10.9"
  }
 },
 "nbformat": 4,
 "nbformat_minor": 5
}
